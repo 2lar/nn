{
 "cells": [
  {
   "cell_type": "code",
   "execution_count": 1,
   "id": "3174dcc5-3dfe-41ab-81d7-f7185d9182e1",
   "metadata": {},
   "outputs": [],
   "source": [
    "# This will be focusing more on the activations and gradients, as well as, batchnorm"
   ]
  },
  {
   "cell_type": "code",
   "execution_count": 2,
   "id": "ccebe1d9-df6a-4ef8-b0a1-797a731231af",
   "metadata": {},
   "outputs": [],
   "source": [
    "import torch\n",
    "import torch.nn.functional as F\n",
    "import matplotlib.pyplot as plt\n",
    "import pandas as pd\n",
    "%matplotlib inline"
   ]
  },
  {
   "cell_type": "code",
   "execution_count": 3,
   "id": "1d471a29-e7f6-4cfa-b4ec-016c01671136",
   "metadata": {},
   "outputs": [],
   "source": [
    "# read all words\n",
    "words= open('names.txt', 'r').read().splitlines()"
   ]
  },
  {
   "cell_type": "code",
   "execution_count": 4,
   "id": "85fb4586-e061-43fc-8efc-20c6cec05d4c",
   "metadata": {},
   "outputs": [
    {
     "name": "stdout",
     "output_type": "stream",
     "text": [
      "27\n"
     ]
    }
   ],
   "source": [
    "# build the vocabulary of characters and mapping to/from integers\n",
    "chars= sorted(list(set(''.join(words))))\n",
    "stoi= {s:i+1 for i,s in enumerate(chars)}\n",
    "# build special characters for the start and end\n",
    "stoi['.'] = 0\n",
    "itos= {i:s for s,i in stoi.items()}\n",
    "vocab_size = len(itos)\n",
    "print(vocab_size)"
   ]
  },
  {
   "cell_type": "code",
   "execution_count": 5,
   "id": "0c97314c-84fb-4783-8ae5-f036b2bcf720",
   "metadata": {},
   "outputs": [
    {
     "name": "stdout",
     "output_type": "stream",
     "text": [
      "Using device: cuda\n"
     ]
    }
   ],
   "source": [
    "device = torch.device('cuda' if torch.cuda.is_available() else 'cpu')\n",
    "print('Using device:', device)"
   ]
  },
  {
   "cell_type": "code",
   "execution_count": 6,
   "id": "37cf73c0-0d3a-4953-b5e7-20a9809a3f08",
   "metadata": {},
   "outputs": [
    {
     "name": "stdout",
     "output_type": "stream",
     "text": [
      "torch.Size([182625, 3]) torch.Size([182625])\n",
      "torch.Size([22655, 3]) torch.Size([22655])\n",
      "torch.Size([22866, 3]) torch.Size([22866])\n"
     ]
    }
   ],
   "source": [
    "# build the dataset\n",
    "block_size = 3 # context length: how many characters do we take to predict the next one?\n",
    "\n",
    "def build_dataset(words):  \n",
    "  X, Y = [], []\n",
    "  \n",
    "  for w in words:\n",
    "    context = [0] * block_size\n",
    "    for ch in w + '.':\n",
    "      ix = stoi[ch]\n",
    "      X.append(context)\n",
    "      Y.append(ix)\n",
    "      context = context[1:] + [ix] # crop and append\n",
    "\n",
    "  X = torch.tensor(X, dtype=torch.long, device=device)\n",
    "  Y = torch.tensor(Y, dtype=torch.long, device=device)\n",
    "  print(X.shape, Y.shape)\n",
    "  return X, Y\n",
    "\n",
    "import random\n",
    "random.seed(42)\n",
    "random.shuffle(words)\n",
    "n1 = int(0.8*len(words))\n",
    "n2 = int(0.9*len(words))\n",
    "\n",
    "Xtr,  Ytr  = build_dataset(words[:n1])     # 80%\n",
    "Xdev, Ydev = build_dataset(words[n1:n2])   # 10%\n",
    "Xte,  Yte  = build_dataset(words[n2:])     # 10%"
   ]
  },
  {
   "cell_type": "code",
   "execution_count": 19,
   "id": "776f21a0-6945-4607-831b-a06267dbefee",
   "metadata": {},
   "outputs": [
    {
     "name": "stdout",
     "output_type": "stream",
     "text": [
      "12097 parameters in total\n"
     ]
    }
   ],
   "source": [
    "# ----------------------------------------------------------\n",
    "# MLP Initialization (GPU version)\n",
    "# ----------------------------------------------------------\n",
    "\n",
    "# Embedding dimensionality: how many numbers represent each character.\n",
    "# Each character will be turned into a small dense vector of this size.\n",
    "n_embd = 10\n",
    "\n",
    "# Number of neurons in the hidden layer of the MLP.\n",
    "# This determines the model’s capacity (larger = more expressive, slower).\n",
    "n_hidden = 200\n",
    "\n",
    "# Create a random number generator on the same device for reproducibility.\n",
    "# Setting a fixed seed ensures consistent initialization and results.\n",
    "g = torch.Generator(device=device).manual_seed(2147483647)\n",
    "\n",
    "# Character embedding table:\n",
    "# Each of the 'vocab_size' possible characters gets a learnable embedding vector of size n_embd.\n",
    "# Using a normal distribution (randn) is common; its scale is fine since it's shallow.\n",
    "C = torch.randn((vocab_size, n_embd), generator=g, device=device)\n",
    "\n",
    "# First linear layer weights: transforms flattened embeddings into hidden-layer activations.\n",
    "# Shape = (input_dim, hidden_dim), where input_dim = n_embd * block_size - this is the FanIn.\n",
    "# The multiplier (5/3)/sqrt(input_dim) is from a scaled version of Kaiming/He initialization.\n",
    "# This scaling keeps the variance of activations roughly constant across layers, \n",
    "# which helps prevent exploding/vanishing activations when using tanh.\n",
    "# These numbers can be found within the PyTorch init documentation for the different activation functions\n",
    "W1 = torch.randn((n_embd * block_size, n_hidden), generator=g, device=device) \\\n",
    "     * (5/3) / ((n_embd * block_size) ** 0.5)\n",
    "\n",
    "# We do NOT need a bias vector 'b1' here because the BatchNorm layer that follows this linear layer\n",
    "# already has its own bias parameter ('bnbias'). BatchNorm can shift and scale activations directly,\n",
    "# making an explicit bias redundant. Including both would be unnecessary and slightly wasteful.\n",
    "#b1 = torch.randn(n_hidden,                        generator=g) * 0.01\n",
    "\n",
    "# Second linear layer weights: project from hidden layer to output vocabulary logits.\n",
    "# Initialized with a very small standard deviation (0.01) to keep early logits near zero.\n",
    "# This keeps the softmax output initially close to uniform and prevents overly confident predictions\n",
    "# before training adjusts the weights properly.\n",
    "W2 = torch.randn((n_hidden, vocab_size), generator=g, device=device) * 0.01\n",
    "\n",
    "# Output layer bias: usually safe to initialize to zero.\n",
    "# This ensures all output classes start with equal prior probability.\n",
    "# Setting it explicitly to 0 avoids introducing bias toward any class at the start.\n",
    "b2 = torch.randn(vocab_size, generator=g, device=device) * 0\n",
    "\n",
    "# Small epsilon constant used in BatchNorm division to prevent division-by-zero.\n",
    "BN_EPS = 1e-5\n",
    "\n",
    "# ----------------------------------------------------------\n",
    "# Batch Normalization parameters\n",
    "# ----------------------------------------------------------\n",
    "# Resolvin issues of layers chasing and trying to account for chaning input statistics = internal covariate shift\n",
    "\n",
    "# BatchNorm gain: a learnable scale factor applied after normalization.\n",
    "# Initialized to 1 so it starts as a no-op (doesn’t change the normalized output).\n",
    "bngain = torch.ones((1, n_hidden), device=device)\n",
    "\n",
    "# BatchNorm bias: a learnable shift parameter applied after normalization.\n",
    "# Initialized to 0 for the same reason as bngain — starts neutral.\n",
    "bnbias = torch.zeros((1, n_hidden), device=device)\n",
    "\n",
    "# Running mean: this tracks the moving average of activation means during training.\n",
    "# Starts at zero since we haven’t seen any batches yet.\n",
    "bnmean_running = torch.zeros((1, n_hidden), device=device)\n",
    "\n",
    "# Running standard deviation: tracks moving average of activation stds.\n",
    "# Starts at 1 so normalization doesn’t distort the activations before updates occur.\n",
    "bnstd_running = torch.ones((1, n_hidden), device=device)\n",
    "\n",
    "# ----------------------------------------------------------\n",
    "# Collect parameters for optimization\n",
    "# ----------------------------------------------------------\n",
    "\n",
    "# We include all learnable tensors that require gradients.\n",
    "# Note: bnmean_running and bnstd_running are buffers, not parameters — they’re updated manually.\n",
    "parameters = [C, W1, W2, b2, bngain, bnbias]\n",
    "\n",
    "# Print total number of parameters to get a sense of model size.\n",
    "print(sum(p.nelement() for p in parameters), \"parameters in total\")\n",
    "\n",
    "# Enable gradient tracking on all model parameters so autograd computes their gradients.\n",
    "for p in parameters:\n",
    "    p.requires_grad = True\n"
   ]
  },
  {
   "cell_type": "markdown",
   "id": "aa36bae0-a8e5-4b48-b818-f2a00d55da2c",
   "metadata": {},
   "source": [
    "### To understand BatchNormalization better\n",
    "\n",
    "Imagine your network’s layers are chefs in a kitchen, passing ingredients from one to the next.\n",
    "1. The first chef seasons the dish heavily.\n",
    "2. The second chef expects mild seasoning but gets a salty mess.\n",
    "3. The third chef has to adapt to that change.\n",
    "\n",
    "Training becomes unstable because every time one layer updates its weights, the “ingredients” (input distributions) that the next layer receives keep changing.\n",
    "\n",
    "BatchNorm acts like a quality control step between chefs:\n",
    "> It ensures the ingredients that move between layers have a consistent flavor profile — i.e., mean and variance.\n",
    "\n",
    "That stability lets each layer learn faster and more confidently.\n",
    "\n",
    "__It stops layers from constantly chasing each other’s changing input statistics — a problem called internal covariate shift.__\n",
    "\n",
    "#### For another Example of how it helps\n",
    "Imagine each neuron’s output as a microphone signal in a concert hall.\n",
    "- Without BatchNorm, some mics are whisper-quiet, others are blasting.\n",
    "- BatchNorm automatically adjusts the volume and tone of each mic (normalizing to 0 mean, 1 variance) before mixing.\n",
    "\n",
    "Then γ and β act as master volume and EQ knobs the system can fine-tune later.\n",
    "So BatchNorm doesn’t just normalize — it gives each neuron a consistent dynamic range.\n",
    "\n",
    "\n",
    "__The resulting goal of BatchNorm__\n",
    "- Ensure guassian results\n",
    "- This is to have mean roughly= 0 and mean roughly= 1"
   ]
  },
  {
   "cell_type": "code",
   "execution_count": 27,
   "id": "f10d2e55-0e1d-4d9d-954d-e52bc3f95d3f",
   "metadata": {},
   "outputs": [
    {
     "name": "stdout",
     "output_type": "stream",
     "text": [
      "      0/ 200000: 2.2891\n",
      "  10000/ 200000: 1.8151\n",
      "  20000/ 200000: 1.9947\n",
      "  30000/ 200000: 2.5741\n",
      "  40000/ 200000: 2.1072\n",
      "  50000/ 200000: 1.9162\n",
      "  60000/ 200000: 2.0888\n",
      "  70000/ 200000: 2.1648\n",
      "  80000/ 200000: 2.4825\n",
      "  90000/ 200000: 2.1105\n",
      " 100000/ 200000: 2.0634\n",
      " 110000/ 200000: 1.9858\n",
      " 120000/ 200000: 2.1463\n",
      " 130000/ 200000: 2.3579\n",
      " 140000/ 200000: 2.2095\n",
      " 150000/ 200000: 2.2276\n",
      " 160000/ 200000: 2.2728\n",
      " 170000/ 200000: 2.5307\n",
      " 180000/ 200000: 1.9972\n",
      " 190000/ 200000: 2.2361\n"
     ]
    }
   ],
   "source": [
    "# ----------------------------------------------------------\n",
    "# OPTIMIZATION LOOP\n",
    "# ----------------------------------------------------------\n",
    "max_steps = 200000\n",
    "batch_size = 32\n",
    "lossi = []\n",
    "\n",
    "# Make sure all model parameters are tracked for gradients\n",
    "parameters = [C, W1, W2, b2, bngain, bnbias]\n",
    "for p in parameters:\n",
    "    p.requires_grad_(True)\n",
    "\n",
    "## REFER1:\n",
    "# learning about a better way to use the decay on learning rate\n",
    "# learn more about the torch.optim\n",
    "import torch.optim as optim\n",
    "\n",
    "# Create the optimizer once before the loop\n",
    "optimizer = optim.SGD(parameters, lr=0.1)   # plain SGD\n",
    "# or optimizer = optim.Adam(parameters, lr=1e-3)   # adaptive variant\n",
    "\n",
    "# Optional scheduler to decay LR after 100 000 steps\n",
    "scheduler = optim.lr_scheduler.MultiStepLR(optimizer,\n",
    "                                           milestones=[max_steps/2],\n",
    "                                           gamma=0.1)\n",
    "\n",
    "# Training loop — computes forward pass, loss, backward, and update\n",
    "for i in range(max_steps):\n",
    "\n",
    "    # ---- Minibatch sampling ----\n",
    "    # Randomly pick a batch of indices from the training set.\n",
    "    # We draw directly on the GPU so tensors stay on the same device.\n",
    "    ix = torch.randint(0, Xtr.shape[0], (batch_size,), generator=g, device=device)\n",
    "    Xb, Yb = Xtr[ix], Ytr[ix]\n",
    "\n",
    "    # ---- Forward pass ----\n",
    "    # Embed each token into its vector representation\n",
    "    emb = C[Xb]                                # Shape (B, T, E)\n",
    "    # Flatten the embeddings into a single vector per example\n",
    "    embcat = emb.view(emb.shape[0], -1)        # Shape (B, T*E)\n",
    "\n",
    "    # First linear transformation (input → hidden)\n",
    "    hpreact = embcat @ W1                      # Shape (B, n_hidden)\n",
    "\n",
    "    # ---- Batch Normalization (training mode) ----\n",
    "    # Compute mean and std for the current batch only.\n",
    "    # These statistics are used to normalize the activations, stabilizing training.\n",
    "    bnmeani = hpreact.mean(0, keepdim=True)\n",
    "    bnstdi  = hpreact.std(0, keepdim=True, unbiased=False)\n",
    "    hpreact = bngain * (hpreact - bnmeani) / (bnstdi + BN_EPS) + bnbias\n",
    "\n",
    "    # Update the running mean/std used later for inference (exponential moving average).\n",
    "    # We do this inside torch.no_grad() because we don't want autograd to track it.\n",
    "    with torch.no_grad():\n",
    "        bnmean_running.mul_(0.999).add_(0.001 * bnmeani)\n",
    "        bnstd_running.mul_(0.999).add_(0.001 * bnstdi)\n",
    "\n",
    "    # ---- Non-linearity ----\n",
    "    h = torch.tanh(hpreact)                    # Apply activation function\n",
    "    # Output layer (hidden → vocab logits)\n",
    "    logits = h @ W2 + b2\n",
    "    # Cross-entropy automatically applies log-softmax and NLL\n",
    "    loss = F.cross_entropy(logits, Yb)\n",
    "\n",
    "    # ---- Backward pass ----\n",
    "    # for p in parameters:\n",
    "    #     p.grad = None                          # Zero gradients before backward\n",
    "    optimizer.zero_grad(set_to_none=True)   # faster than manual loop\n",
    "    \n",
    "    loss.backward()                            # Compute gradients\n",
    "\n",
    "    # ---- Parameter update ----\n",
    "    # # Manual SGD update under torch.no_grad() so it’s not tracked by autograd.\n",
    "    # lr = 0.1 if i < 100000 else 0.01\n",
    "    ## THE UPDATED SECTION IS IN REFER1\n",
    "    optimizer.step()\n",
    "    scheduler.step()                        # adjusts LR if using scheduler\n",
    "\n",
    "    ## SECTION BELOW COMMENTED OUT checkot REFER1\n",
    "    # with torch.no_grad():\n",
    "    #     for p in parameters:\n",
    "    #         p -= lr * p.grad                   # Weight update (in-place)\n",
    "\n",
    "    # ---- Logging ----\n",
    "    if i % 10_000 == 0:\n",
    "        print(f'{i:7d}/{max_steps:7d}: {loss.item():.4f}')\n",
    "    lossi.append(loss.log10().item())"
   ]
  },
  {
   "cell_type": "code",
   "execution_count": 21,
   "id": "1e7d2a66-582c-4c0e-a462-ac6b856eb669",
   "metadata": {},
   "outputs": [
    {
     "data": {
      "text/plain": [
       "[<matplotlib.lines.Line2D at 0x7d8d0c204a30>]"
      ]
     },
     "execution_count": 21,
     "metadata": {},
     "output_type": "execute_result"
    },
    {
     "data": {
      "image/png": "[encoded data removed]",
      "text/plain": [
       "<Figure size 640x480 with 1 Axes>"
      ]
     },
     "metadata": {},
     "output_type": "display_data"
    }
   ],
   "source": [
    "plt.plot(lossi)"
   ]
  },
  {
   "cell_type": "code",
   "execution_count": 22,
   "id": "71578cab-4f0c-440d-ad75-66c3a5f02420",
   "metadata": {},
   "outputs": [],
   "source": [
    "# ----------------------------------------------------------\n",
    "# BATCH NORM CALIBRATION AFTER TRAINING\n",
    "# ----------------------------------------------------------\n",
    "# At the end of training, we compute the true mean and std of the hidden layer\n",
    "# across the entire training set. This ensures consistent normalization at inference.\n",
    "# This isn't additional training - hence appointed by the no_grad. This is just running the full dataset (XTr) to see results\n",
    "with torch.no_grad():\n",
    "    emb     = C[Xtr]                           # Forward full training set\n",
    "    embcat  = emb.view(emb.shape[0], -1)\n",
    "    hpreact = embcat @ W1\n",
    "    bnmean  = hpreact.mean(0, keepdim=True)    # True dataset mean\n",
    "    bnstd   = hpreact.std(0, keepdim=True, unbiased=False)  # True dataset std"
   ]
  },
  {
   "cell_type": "code",
   "execution_count": 23,
   "id": "958aa9db-e1a1-4bb5-8099-08f3f5ecf746",
   "metadata": {},
   "outputs": [
    {
     "name": "stdout",
     "output_type": "stream",
     "text": [
      "train 2.0687103271484375\n",
      "val 2.1125259399414062\n"
     ]
    }
   ],
   "source": [
    "# ----------------------------------------------------------\n",
    "# LOSS EVALUATION FUNCTION\n",
    "# ----------------------------------------------------------\n",
    "# The @torch.no_grad() decorator disables autograd tracking.\n",
    "# This saves memory and computation when gradients aren't needed.\n",
    "# Here, we evaluate model loss for train/val/test splits.\n",
    "@torch.no_grad()\n",
    "def split_loss(split):\n",
    "    # Select which dataset split to use\n",
    "    x, y = {\n",
    "        'train': (Xtr,  Ytr),\n",
    "        'val':   (Xdev, Ydev),\n",
    "        'test':  (Xte,  Yte),\n",
    "    }[split]\n",
    "\n",
    "    # Forward pass identical to training, except we use stored BN stats\n",
    "    emb     = C[x]\n",
    "    embcat  = emb.view(emb.shape[0], -1)\n",
    "    hpreact = embcat @ W1\n",
    "\n",
    "    # Use running mean/std for evaluation (or use bnmean/bnstd if calibrated)\n",
    "    hpreact = bngain * (hpreact - bnmean_running) / (bnstd_running + BN_EPS) + bnbias\n",
    "\n",
    "    h      = torch.tanh(hpreact)\n",
    "    logits = h @ W2 + b2\n",
    "    loss   = F.cross_entropy(logits, y)\n",
    "    print(split, loss.item())\n",
    "\n",
    "# Compute and print evaluation losses\n",
    "split_loss('train')\n",
    "split_loss('val')"
   ]
  },
  {
   "cell_type": "code",
   "execution_count": 26,
   "id": "9ee0bf2d-f8ea-480a-b97b-bca7ed74da71",
   "metadata": {},
   "outputs": [
    {
     "name": "stdout",
     "output_type": "stream",
     "text": [
      "yoznave.\n",
      "annislda.\n",
      "nevan.\n",
      "ariya.\n",
      "aoluwa.\n",
      "lekansh.\n",
      "nia.\n",
      "elaiya.\n",
      "quid.\n",
      "kritalia.\n",
      "elanna.\n",
      "zae.\n",
      "johaida.\n",
      "khuya.\n",
      "kaelie.\n",
      "ben.\n",
      "leya.\n",
      "alynleer.\n",
      "sky.\n",
      "cassi.\n"
     ]
    }
   ],
   "source": [
    "@torch.no_grad()  # disable gradient tracking — sampling doesn't need grads\n",
    "def sample_name(block_size, itos, use_calibrated=True, max_steps=100):\n",
    "    \"\"\"\n",
    "    Generate a new sample (e.g., a name) one token at a time.\n",
    "    Arguments:\n",
    "      block_size: how many preceding characters to condition on\n",
    "      itos: index-to-string mapping for decoding\n",
    "      use_calibrated: if True, use the full-dataset mean/std computed earlier\n",
    "      max_steps: safety cap on sequence length\n",
    "    \"\"\"\n",
    "    # Start with a context of all '.' tokens (index 0), on the GPU\n",
    "    context = torch.zeros((1, block_size), dtype=torch.long, device=device)\n",
    "    out = []\n",
    "\n",
    "    while True:\n",
    "        # Embed the current context\n",
    "        emb     = C[context]                      # Shape (1, T, E)\n",
    "        B, T, E = emb.shape\n",
    "        embcat  = emb.view(B, T * E)\n",
    "\n",
    "        # Compute hidden activations\n",
    "        hpreact = embcat @ W1\n",
    "\n",
    "        # Normalize using calibrated or running batch norm stats\n",
    "        if use_calibrated:\n",
    "            hpreact = bngain * (hpreact - bnmean) / (bnstd + BN_EPS) + bnbias\n",
    "        else:\n",
    "            hpreact = bngain * (hpreact - bnmean_running) / (bnstd_running + BN_EPS) + bnbias\n",
    "\n",
    "        # Nonlinearity + output projection\n",
    "        h      = torch.tanh(hpreact)\n",
    "        logits = h @ W2 + b2\n",
    "        probs  = F.softmax(logits, dim=1)         # Convert logits → probabilities\n",
    "\n",
    "        # Randomly sample the next token index from the predicted distribution\n",
    "        ix = torch.multinomial(probs[0], num_samples=1, generator=g).item()\n",
    "\n",
    "        # Append token and update context (keep same block_size)\n",
    "        out.append(ix)\n",
    "        new_ix = torch.tensor([[ix]], dtype=torch.long, device=device)\n",
    "        context = torch.cat([context[:, 1:], new_ix], dim=1)\n",
    "\n",
    "        # Stop if we generate the '.' token (index 0) or reach the limit\n",
    "        if ix == 0 or len(out) >= max_steps:\n",
    "            break\n",
    "\n",
    "    # Convert numeric indices back into characters and join them into a string\n",
    "    return ''.join(itos[i] for i in out)\n",
    "\n",
    "# Generate several samples\n",
    "for _ in range(20):\n",
    "    print(sample_name(block_size, itos, use_calibrated=True))\n"
   ]
  },
  {
   "cell_type": "code",
   "execution_count": 15,
   "id": "70f4d35d-8abd-413f-ab36-c0d016970082",
   "metadata": {},
   "outputs": [
    {
     "data": {
      "text/plain": [
       "tensor(3.2958)"
      ]
     },
     "execution_count": 15,
     "metadata": {},
     "output_type": "execute_result"
    }
   ],
   "source": [
    "# The initial loss has not been bad, but we can optimize further for initialization of weights\n",
    "# initiial we want to aim for something like below\n",
    "-torch.tensor(1/27.0).log()"
   ]
  },
  {
   "cell_type": "code",
   "execution_count": null,
   "id": "ecb0c360-d537-4150-a16a-54d1c43c22d8",
   "metadata": {},
   "outputs": [],
   "source": [
    "# 4d of issue\n",
    "logits = torch/ten"
   ]
  }
 ],
 "metadata": {
  "kernelspec": {
   "display_name": "Python (nn-env)",
   "language": "python",
   "name": "nn-env"
  },
  "language_info": {
   "codemirror_mode": {
    "name": "ipython",
    "version": 3
   },
   "file_extension": ".py",
   "mimetype": "text/x-python",
   "name": "python",
   "nbconvert_exporter": "python",
   "pygments_lexer": "ipython3",
   "version": "3.10.12"
  }
 },
 "nbformat": 4,
 "nbformat_minor": 5
}
