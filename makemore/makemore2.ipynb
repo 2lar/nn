{
 "cells": [
  {
   "cell_type": "code",
   "execution_count": 383,
   "id": "dd4482cb-3ca0-4eae-89fd-4b9df1698980",
   "metadata": {},
   "outputs": [],
   "source": [
    "# This will be very descriptive about how the makemore2 works. We will get more into pytorch within this\n",
    "# for this notebook, I am not going to add in the train and test set splitting. I will do so in the future notebooks"
   ]
  },
  {
   "cell_type": "code",
   "execution_count": 118,
   "id": "ff6fbadd-15c5-4652-99ad-387eda1c37a1",
   "metadata": {},
   "outputs": [],
   "source": [
    "import torch\n",
    "import torch.nn.functional as F\n",
    "import matplotlib.pyplot as plt\n",
    "import pandas as pd\n",
    "%matplotlib inline"
   ]
  },
  {
   "cell_type": "code",
   "execution_count": 119,
   "id": "a400a384-a1e3-4eae-9160-229f923be530",
   "metadata": {},
   "outputs": [],
   "source": [
    "# read all words\n",
    "words= open('names.txt', 'r').read().splitlines()"
   ]
  },
  {
   "cell_type": "code",
   "execution_count": 120,
   "id": "8c4d90e3-e10c-4508-a412-ccf708485c41",
   "metadata": {},
   "outputs": [
    {
     "data": {
      "text/plain": [
       "32033"
      ]
     },
     "execution_count": 120,
     "metadata": {},
     "output_type": "execute_result"
    }
   ],
   "source": [
    "len(words)"
   ]
  },
  {
   "cell_type": "code",
   "execution_count": 121,
   "id": "c75af15e-726f-4963-8c78-a3d685d04eb3",
   "metadata": {},
   "outputs": [
    {
     "name": "stdout",
     "output_type": "stream",
     "text": [
      "{1: 'a', 2: 'b', 3: 'c', 4: 'd', 5: 'e', 6: 'f', 7: 'g', 8: 'h', 9: 'i', 10: 'j', 11: 'k', 12: 'l', 13: 'm', 14: 'n', 15: 'o', 16: 'p', 17: 'q', 18: 'r', 19: 's', 20: 't', 21: 'u', 22: 'v', 23: 'w', 24: 'x', 25: 'y', 26: 'z', 0: '.'}\n"
     ]
    }
   ],
   "source": [
    "# build the vocabulary of characters and mapping to/from integers\n",
    "chars= sorted(list(set(''.join(words))))\n",
    "stoi= {s:i+1 for i,s in enumerate(chars)}\n",
    "# build special characters for the start and end\n",
    "stoi['.'] = 0\n",
    "itos= {i:s for s,i in stoi.items()}\n",
    "print(itos)"
   ]
  },
  {
   "cell_type": "code",
   "execution_count": 122,
   "id": "a582d723-51dd-4a1f-9974-f7544d4aa990",
   "metadata": {},
   "outputs": [
    {
     "name": "stdout",
     "output_type": "stream",
     "text": [
      "emma\n",
      "... --> e\n",
      "..e --> m\n",
      ".em --> m\n",
      "emm --> a\n",
      "mma --> .\n",
      "olivia\n",
      "... --> o\n",
      "..o --> l\n",
      ".ol --> i\n",
      "oli --> v\n",
      "liv --> i\n",
      "ivi --> a\n",
      "via --> .\n",
      "ava\n",
      "... --> a\n",
      "..a --> v\n",
      ".av --> a\n",
      "ava --> .\n",
      "isabella\n",
      "... --> i\n",
      "..i --> s\n",
      ".is --> a\n",
      "isa --> b\n",
      "sab --> e\n",
      "abe --> l\n",
      "bel --> l\n",
      "ell --> a\n",
      "lla --> .\n",
      "sophia\n",
      "... --> s\n",
      "..s --> o\n",
      ".so --> p\n",
      "sop --> h\n",
      "oph --> i\n",
      "phi --> a\n",
      "hia --> .\n"
     ]
    }
   ],
   "source": [
    "# to build a dataset\n",
    "\n",
    "# consider that we only want a block size or starting context to predict each letter\n",
    "blockSize= 3\n",
    "X, Y = [], []\n",
    "for w in words[:5]:\n",
    "    print(w)\n",
    "    # initialize the context to be of size blockSize and nothing inside\n",
    "    context= [0] * blockSize\n",
    "    # for each character, we want to construct the context used to find answer or predicted character\n",
    "    # we are trying to build something like this\n",
    "    # ['.', '.', '.'] is used to predict ['a']\n",
    "    # and so forth\n",
    "    for ch in w + '.':\n",
    "        ix = stoi[ch]\n",
    "        # we add into the context data set used for prediction (in numbers)\n",
    "        X.append(context)\n",
    "        # and then we also add the related answer in integer format\n",
    "        Y.append(ix)\n",
    "        print(''.join(itos[i] for i in context), '-->', itos[ix])\n",
    "        # then we need to consider updating the context to prepare what the context is ued for next prediction\n",
    "        context = context[1:] + [ix]\n",
    "\n",
    "X= torch.tensor(X)\n",
    "Y= torch.tensor(Y)"
   ]
  },
  {
   "cell_type": "code",
   "execution_count": 123,
   "id": "eeba7566-8880-4f66-899f-a3abaad7e053",
   "metadata": {},
   "outputs": [],
   "source": [
    "# now we need to get into the context (X) and how to predict the Y\n",
    "# we need to start out with some embedding lookup table\n",
    "\n",
    "# he were are going to condense the 27 letters into 2 dimensional space\n",
    "C = torch.rand((27,2))\n",
    "\n",
    "# this means: we have 2 attributes/values that is used to encode a letter/integer for the letter"
   ]
  },
  {
   "cell_type": "code",
   "execution_count": 124,
   "id": "6de4f986-502f-400f-a2ec-0011540e7e8c",
   "metadata": {},
   "outputs": [
    {
     "data": {
      "text/plain": [
       "(torch.Size([32, 3]), torch.Size([32]))"
      ]
     },
     "execution_count": 124,
     "metadata": {},
     "output_type": "execute_result"
    }
   ],
   "source": [
    "# from the first 5 words, we will have X.shape examples to go from alongside Y.shape outputs/answers\n",
    "X.shape, Y.shape"
   ]
  },
  {
   "cell_type": "code",
   "execution_count": 125,
   "id": "6f66d9cd-015a-47e4-97ed-6159f95b871b",
   "metadata": {},
   "outputs": [
    {
     "data": {
      "text/plain": [
       "tensor([[[0.8987, 0.0592],\n",
       "         [0.8987, 0.0592],\n",
       "         [0.8987, 0.0592]],\n",
       "\n",
       "        [[0.8987, 0.0592],\n",
       "         [0.8987, 0.0592],\n",
       "         [0.9669, 0.3707]],\n",
       "\n",
       "        [[0.8987, 0.0592],\n",
       "         [0.9669, 0.3707],\n",
       "         [0.1094, 0.9712]],\n",
       "\n",
       "        [[0.9669, 0.3707],\n",
       "         [0.1094, 0.9712],\n",
       "         [0.1094, 0.9712]],\n",
       "\n",
       "        [[0.1094, 0.9712],\n",
       "         [0.1094, 0.9712],\n",
       "         [0.8704, 0.5595]],\n",
       "\n",
       "        [[0.8987, 0.0592],\n",
       "         [0.8987, 0.0592],\n",
       "         [0.8987, 0.0592]],\n",
       "\n",
       "        [[0.8987, 0.0592],\n",
       "         [0.8987, 0.0592],\n",
       "         [0.2211, 0.2046]],\n",
       "\n",
       "        [[0.8987, 0.0592],\n",
       "         [0.2211, 0.2046],\n",
       "         [0.2085, 0.8658]],\n",
       "\n",
       "        [[0.2211, 0.2046],\n",
       "         [0.2085, 0.8658],\n",
       "         [0.4294, 0.8042]],\n",
       "\n",
       "        [[0.2085, 0.8658],\n",
       "         [0.4294, 0.8042],\n",
       "         [0.5238, 0.3325]],\n",
       "\n",
       "        [[0.4294, 0.8042],\n",
       "         [0.5238, 0.3325],\n",
       "         [0.4294, 0.8042]],\n",
       "\n",
       "        [[0.5238, 0.3325],\n",
       "         [0.4294, 0.8042],\n",
       "         [0.8704, 0.5595]],\n",
       "\n",
       "        [[0.8987, 0.0592],\n",
       "         [0.8987, 0.0592],\n",
       "         [0.8987, 0.0592]],\n",
       "\n",
       "        [[0.8987, 0.0592],\n",
       "         [0.8987, 0.0592],\n",
       "         [0.8704, 0.5595]],\n",
       "\n",
       "        [[0.8987, 0.0592],\n",
       "         [0.8704, 0.5595],\n",
       "         [0.5238, 0.3325]],\n",
       "\n",
       "        [[0.8704, 0.5595],\n",
       "         [0.5238, 0.3325],\n",
       "         [0.8704, 0.5595]],\n",
       "\n",
       "        [[0.8987, 0.0592],\n",
       "         [0.8987, 0.0592],\n",
       "         [0.8987, 0.0592]],\n",
       "\n",
       "        [[0.8987, 0.0592],\n",
       "         [0.8987, 0.0592],\n",
       "         [0.4294, 0.8042]],\n",
       "\n",
       "        [[0.8987, 0.0592],\n",
       "         [0.4294, 0.8042],\n",
       "         [0.9219, 0.5195]],\n",
       "\n",
       "        [[0.4294, 0.8042],\n",
       "         [0.9219, 0.5195],\n",
       "         [0.8704, 0.5595]],\n",
       "\n",
       "        [[0.9219, 0.5195],\n",
       "         [0.8704, 0.5595],\n",
       "         [0.7918, 0.1613]],\n",
       "\n",
       "        [[0.8704, 0.5595],\n",
       "         [0.7918, 0.1613],\n",
       "         [0.9669, 0.3707]],\n",
       "\n",
       "        [[0.7918, 0.1613],\n",
       "         [0.9669, 0.3707],\n",
       "         [0.2085, 0.8658]],\n",
       "\n",
       "        [[0.9669, 0.3707],\n",
       "         [0.2085, 0.8658],\n",
       "         [0.2085, 0.8658]],\n",
       "\n",
       "        [[0.2085, 0.8658],\n",
       "         [0.2085, 0.8658],\n",
       "         [0.8704, 0.5595]],\n",
       "\n",
       "        [[0.8987, 0.0592],\n",
       "         [0.8987, 0.0592],\n",
       "         [0.8987, 0.0592]],\n",
       "\n",
       "        [[0.8987, 0.0592],\n",
       "         [0.8987, 0.0592],\n",
       "         [0.9219, 0.5195]],\n",
       "\n",
       "        [[0.8987, 0.0592],\n",
       "         [0.9219, 0.5195],\n",
       "         [0.2211, 0.2046]],\n",
       "\n",
       "        [[0.9219, 0.5195],\n",
       "         [0.2211, 0.2046],\n",
       "         [0.9875, 0.4379]],\n",
       "\n",
       "        [[0.2211, 0.2046],\n",
       "         [0.9875, 0.4379],\n",
       "         [0.0410, 0.6720]],\n",
       "\n",
       "        [[0.9875, 0.4379],\n",
       "         [0.0410, 0.6720],\n",
       "         [0.4294, 0.8042]],\n",
       "\n",
       "        [[0.0410, 0.6720],\n",
       "         [0.4294, 0.8042],\n",
       "         [0.8704, 0.5595]]])"
      ]
     },
     "execution_count": 125,
     "metadata": {},
     "output_type": "execute_result"
    }
   ],
   "source": [
    "# we can index into the embedding table normally like\n",
    "C[5]\n",
    "# or through a tensor\n",
    "C[torch.tensor(5)]\n",
    "# or even through a larger tensor, we can use the example for how the examples\n",
    "# are shown through the embeddings\n",
    "# basically, using the embeddings tables, showcase the context with the embedded values for each character\n",
    "C[X]"
   ]
  },
  {
   "cell_type": "code",
   "execution_count": 126,
   "id": "f3612df2-43d6-463f-b622-57b00a2d251b",
   "metadata": {},
   "outputs": [
    {
     "data": {
      "text/plain": [
       "torch.Size([32, 3, 2])"
      ]
     },
     "execution_count": 126,
     "metadata": {},
     "output_type": "execute_result"
    }
   ],
   "source": [
    "C[X].shape"
   ]
  },
  {
   "cell_type": "code",
   "execution_count": 127,
   "id": "18eb68f5-5546-42dc-a6c0-9647884dba64",
   "metadata": {},
   "outputs": [
    {
     "data": {
      "text/plain": [
       "torch.Size([32, 3, 2])"
      ]
     },
     "execution_count": 127,
     "metadata": {},
     "output_type": "execute_result"
    }
   ],
   "source": [
    "emb = C[X]\n",
    "emb.shape"
   ]
  },
  {
   "cell_type": "code",
   "execution_count": 48,
   "id": "8c9b4be9-7da1-4f06-b891-e6000f62c138",
   "metadata": {},
   "outputs": [],
   "source": [
    "# we can choose the 'second' layer or number of neurons - in this case we chose 100\n",
    "W1 = torch.randn((6,100))\n",
    "b1 = torch.randn(100)"
   ]
  },
  {
   "cell_type": "code",
   "execution_count": 51,
   "id": "0f1a7cd8-c9ae-4117-8c17-3d05229919d4",
   "metadata": {},
   "outputs": [
    {
     "data": {
      "text/plain": [
       "torch.Size([32, 6])"
      ]
     },
     "execution_count": 51,
     "metadata": {},
     "output_type": "execute_result"
    }
   ],
   "source": [
    "# We would need to do the embedding .matmul or @ with the weights\n",
    "# PROBLEM: we can't do that right now since emb is of shape 32x3x2 and W1 is 6x100\n",
    "# matrix multiplication won't work with this it needs to be 32x6 @ 6x100\n",
    "\n",
    "# what we can do is turn the emb into 32x6\n",
    "\n",
    "# METHOD 1:\n",
    "# concatenate each of the second (1) dimension (which contains the embeddings) and retaining the first dimension (0)\n",
    "torch.cat([emb[:,0, :], emb[:, 0, :], emb[:, 0, :]], 1).shape\n",
    "\n",
    "# METHOD 2:\n",
    "# do with torch.unbind - I am imagining this as unfurling everything against a certain dimension and breaking barriers\n",
    "torch.cat(torch.unbind(emb, 1), 1).shape\n",
    "\n",
    "# METHOD 3: easily done with view. also -1 is to assume the actual first dimension (0)\n",
    "# which is the same as emb.view(32, 6).shape\n",
    "# emb.view(emb.shape[0], 6).shape\n",
    "emb.view(-1,6).shape"
   ]
  },
  {
   "cell_type": "code",
   "execution_count": 52,
   "id": "574e4b1e-7b0e-41e4-aac2-4d4c89befe0a",
   "metadata": {},
   "outputs": [
    {
     "data": {
      "text/plain": [
       "torch.Size([32, 100])"
      ]
     },
     "execution_count": 52,
     "metadata": {},
     "output_type": "execute_result"
    }
   ],
   "source": [
    "h = emb.view(-1,6) @ W1 + b1\n",
    "\n",
    "# now that we can matrix multiply them, we can now get into the actual from input to second layer (100)\n",
    "h.shape"
   ]
  },
  {
   "cell_type": "code",
   "execution_count": 58,
   "id": "4d8944d2-a6fb-4d39-b46f-35913255b349",
   "metadata": {},
   "outputs": [
    {
     "data": {
      "text/plain": [
       "tensor([[-0.3712, -0.9268, -0.5447,  ..., -0.1120,  0.0221, -0.7995],\n",
       "        [-0.6500, -0.9487, -0.3599,  ...,  0.0135,  0.0153, -0.6403],\n",
       "        [-0.8691, -0.9523,  0.3634,  ...,  0.2273,  0.0426, -0.1092],\n",
       "        ...,\n",
       "        [-0.9811, -0.9593,  0.4293,  ...,  0.3320,  0.3126,  0.1718],\n",
       "        [-0.9443, -0.9898, -0.9082,  ...,  0.0523, -0.4966,  0.2368],\n",
       "        [ 0.1598, -0.9980, -0.5527,  ..., -0.7439,  0.4646, -0.9241]])"
      ]
     },
     "execution_count": 58,
     "metadata": {},
     "output_type": "execute_result"
    }
   ],
   "source": [
    "# but we aren't done, we need to make this an activation layer with tanh\n",
    "# tanh is an activation method - to detemine how much inputs are activating neurons to help determine an output\n",
    "h = torch.tanh(emb.view(-1,6) @ W1 + b1)\n",
    "h"
   ]
  },
  {
   "cell_type": "code",
   "execution_count": 59,
   "id": "ed28495b-82d1-41b7-8156-d65a0d2256d2",
   "metadata": {},
   "outputs": [],
   "source": [
    "# now there is something that is happening here that needs to be considered, check out Broadcasting"
   ]
  },
  {
   "cell_type": "code",
   "execution_count": 60,
   "id": "60a9237e-af5e-47f3-bd4e-f7622b9ff86f",
   "metadata": {},
   "outputs": [],
   "source": [
    "# now we can consider the final output layer, basically the predictions that we want to come out with\n",
    "W2 = torch.randn((100,27))\n",
    "b2 = torch.randn(27)"
   ]
  },
  {
   "cell_type": "code",
   "execution_count": 61,
   "id": "2078f4cc-dabb-492b-8b5c-54ccbff6a9b3",
   "metadata": {},
   "outputs": [
    {
     "data": {
      "text/plain": [
       "torch.Size([32, 27])"
      ]
     },
     "execution_count": 61,
     "metadata": {},
     "output_type": "execute_result"
    }
   ],
   "source": [
    "# logits are the raw scores that come out - we will need to normalize them later\n",
    "logits = h @ W2 + b2\n",
    "logits.shape"
   ]
  },
  {
   "cell_type": "code",
   "execution_count": 62,
   "id": "473bf0b8-1ea0-4706-a9da-a355ed14332c",
   "metadata": {},
   "outputs": [],
   "source": [
    "# now we have to noralize these outputs\n",
    "counts = logits.exp()"
   ]
  },
  {
   "cell_type": "code",
   "execution_count": 68,
   "id": "a9111323-d138-4574-8157-628e2e252aed",
   "metadata": {},
   "outputs": [
    {
     "data": {
      "text/plain": [
       "torch.Size([32, 27])"
      ]
     },
     "execution_count": 68,
     "metadata": {},
     "output_type": "execute_result"
    }
   ],
   "source": [
    "# now we can provide the probabilities after normalizing the results\n",
    "prob = counts / counts.sum(1, keepdims=True)\n",
    "prob.shape"
   ]
  },
  {
   "cell_type": "code",
   "execution_count": 71,
   "id": "e899c509-87ed-4399-b352-3e0828bfca8b",
   "metadata": {},
   "outputs": [
    {
     "data": {
      "text/plain": [
       "tensor([3.8326e-08, 3.8800e-01, 3.1822e-01, 2.6593e-12, 1.3562e-07, 1.6771e-14,\n",
       "        2.4845e-06, 3.8503e-11, 1.1537e-04, 1.8708e-10, 1.0023e-15, 6.5709e-08,\n",
       "        2.8670e-15, 7.3632e-07, 1.8952e-15, 5.9944e-09, 1.0149e-09, 4.7629e-07,\n",
       "        4.0095e-17, 3.5814e-08, 3.5856e-06, 4.9048e-06, 5.4525e-06, 1.6544e-15,\n",
       "        2.5030e-07, 3.2234e-08, 6.5850e-14, 1.4592e-14, 1.2569e-09, 3.4408e-09,\n",
       "        3.1143e-14, 3.0366e-07])"
      ]
     },
     "execution_count": 71,
     "metadata": {},
     "output_type": "execute_result"
    }
   ],
   "source": [
    "# we will now need to calculate the loss but first we want to check out the probably in relation to our outputs\n",
    "prob[torch.arange(32), Y]"
   ]
  },
  {
   "cell_type": "code",
   "execution_count": 74,
   "id": "c8313e8d-e9bb-47d3-a986-d0bc299e0c5d",
   "metadata": {},
   "outputs": [
    {
     "data": {
      "text/plain": [
       "tensor(20.4705)"
      ]
     },
     "execution_count": 74,
     "metadata": {},
     "output_type": "execute_result"
    }
   ],
   "source": [
    "# now we can the log probability and then the average of them to find the negative log likelihood loss\n",
    "# LOSS\n",
    "loss = -prob[torch.arange(32), Y].log().mean()\n",
    "loss"
   ]
  },
  {
   "cell_type": "code",
   "execution_count": 88,
   "id": "dc664db4-2eb4-432c-b050-ca2c5bd53b17",
   "metadata": {},
   "outputs": [
    {
     "data": {
      "text/plain": [
       "(torch.Size([32, 3]), torch.Size([32]))"
      ]
     },
     "execution_count": 88,
     "metadata": {},
     "output_type": "execute_result"
    }
   ],
   "source": [
    "#### THIS SECTION IS REORGANIZING EVERYTHING TO MAKE IT LOOK NICER AND EASIER TO FOLLOW #####\n",
    "X.shape, Y.shape ## dataset"
   ]
  },
  {
   "cell_type": "code",
   "execution_count": 128,
   "id": "b0a6e03a-6885-473f-9011-cb3c78d47899",
   "metadata": {},
   "outputs": [],
   "source": [
    "g = torch.Generator().manual_seed(2147483647) # this is for reproducability\n",
    "# Embedding matrix mapping each of the 27 possible characters to a 2D vector representation\n",
    "C = torch.randn((27,2), generator=g)\n",
    "# Weights and biases for the first linear layer: input of 6 (from 3 chars × 2 embedding dim) → 100 hidden units\n",
    "W1 = torch.randn((6, 100), generator=g)\n",
    "b1 = torch.randn(100, generator=g)\n",
    "\n",
    "# Weights and biases for output layer: 100 → 27 (each output logit corresponds to one possible next character).\n",
    "W2= torch.randn((100, 27), generator=g)\n",
    "b2= torch.randn(27, generator=g)\n",
    "\n",
    "# just to organize it all together\n",
    "parameters = [C, W1, b1, W2, b2]"
   ]
  },
  {
   "cell_type": "code",
   "execution_count": 129,
   "id": "117da296-6ab0-4d5d-9bec-92e9cc1801f5",
   "metadata": {},
   "outputs": [
    {
     "data": {
      "text/plain": [
       "3481"
      ]
     },
     "execution_count": 129,
     "metadata": {},
     "output_type": "execute_result"
    }
   ],
   "source": [
    "# we can also see how many parameters there are\n",
    "sum(p.nelement() for p in parameters)"
   ]
  },
  {
   "cell_type": "code",
   "execution_count": 130,
   "id": "86244572-fa82-4d40-b242-ced621293fa6",
   "metadata": {},
   "outputs": [
    {
     "data": {
      "text/plain": [
       "tensor(17.7697)"
      ]
     },
     "execution_count": 130,
     "metadata": {},
     "output_type": "execute_result"
    }
   ],
   "source": [
    "# Look up embeddings for each of the 3 input characters in every one of the 32 examples. Shape becomes (32, 3, 2)\n",
    "emb= C[X]\n",
    "\n",
    "# Flatten the 3×2 embeddings (per example) into a 1D vector of 6 pieces with view,\n",
    "# then apply the first linear layer and tanh activation to produce 100 hidden activations per example\n",
    "# h is representation of the hidden activations for the 32 examples\n",
    "h= torch.tanh(emb.view(-1, 6) @ W1 + b1)\n",
    "\n",
    "# get the raw scores on output, so another layer of calculations\n",
    "# Transform 100 hidden activations into 27 logits — one unnormalized score per possible output character.\n",
    "logits= h @ W2 + b2\n",
    "\n",
    "############## THIS SECTION BELOW WITH COUNTS, PROB, AND LOSS CAN BE DONE THROUGH Functional.cross_entropy(logits, Y) finding the same loss ######\n",
    "# below is just for educational purposes but at scale and everything else, this isn't efficient or fully implemented for everything\n",
    "\n",
    "# This is an example of the transition of before and after the logits.exp()\n",
    "# logits[i] = [-2.0, 0.0, 1.0]\n",
    "# counts[i] = [e^(-2.0), e^(0.0), e^(1.0)] ≈ [0.135, 1.0, 2.718]\n",
    "\n",
    "# Compute probabilities for each class using a simple (non-stable)\n",
    "# softmax: exponentiate logits, then normalize across 27 possible next characters\n",
    "counts = logits.exp()\n",
    "\n",
    "# counts[i] = [0.135, 1.0, 2.718]\n",
    "# sum[i] = 0.135 + 1.0 + 2.718 = 3.853\n",
    "# probs[i] = [0.035, 0.259, 0.706]\n",
    "\n",
    "prob = counts / counts.sum(1, keepdims=True)\n",
    "\n",
    "# get the negative log likelihood and loss\n",
    "# Compute the negative log-likelihood (cross-entropy) loss:\n",
    "# For each example i in the batch (0–31), take the probability that the model\n",
    "# assigned to the correct next character Y[i], i.e. probs[i, Y[i]].\n",
    "# The log makes confident predictions less penalized (log(1) = 0),\n",
    "# the negative sign turns low probabilities into larger penalties,\n",
    "# and .mean() averages the 32 losses into one scalar.\n",
    "#\n",
    "# Essentially: For each example (row) in the batch, look up the probability the\n",
    "# model assigned to the true next character (Y[i]), take its log,\n",
    "# negate it (so higher probs → smaller loss), then average over the batch.\n",
    "loss = -prob[torch.arange(32), Y].log().mean()\n",
    "loss"
   ]
  },
  {
   "cell_type": "code",
   "execution_count": 103,
   "id": "fb012bc0-f5f7-4c2b-be79-3f9b58d59c8d",
   "metadata": {},
   "outputs": [
    {
     "data": {
      "text/html": [
       "<div>\n",
       "<style scoped>\n",
       "    .dataframe tbody tr th:only-of-type {\n",
       "        vertical-align: middle;\n",
       "    }\n",
       "\n",
       "    .dataframe tbody tr th {\n",
       "        vertical-align: top;\n",
       "    }\n",
       "\n",
       "    .dataframe thead th {\n",
       "        text-align: right;\n",
       "    }\n",
       "</style>\n",
       "<table border=\"1\" class=\"dataframe\">\n",
       "  <thead>\n",
       "    <tr style=\"text-align: right;\">\n",
       "      <th></th>\n",
       "      <th>example_idx</th>\n",
       "      <th>Y_true_index</th>\n",
       "      <th>p_true</th>\n",
       "      <th>-log(p_true)</th>\n",
       "    </tr>\n",
       "  </thead>\n",
       "  <tbody>\n",
       "    <tr>\n",
       "      <th>0</th>\n",
       "      <td>0</td>\n",
       "      <td>5</td>\n",
       "      <td>1.5213e-14</td>\n",
       "      <td>31.8166</td>\n",
       "    </tr>\n",
       "    <tr>\n",
       "      <th>1</th>\n",
       "      <td>1</td>\n",
       "      <td>13</td>\n",
       "      <td>1.2830e-12</td>\n",
       "      <td>27.3818</td>\n",
       "    </tr>\n",
       "    <tr>\n",
       "      <th>2</th>\n",
       "      <td>2</td>\n",
       "      <td>13</td>\n",
       "      <td>1.9647e-08</td>\n",
       "      <td>17.7454</td>\n",
       "    </tr>\n",
       "    <tr>\n",
       "      <th>3</th>\n",
       "      <td>3</td>\n",
       "      <td>1</td>\n",
       "      <td>3.1758e-10</td>\n",
       "      <td>21.8703</td>\n",
       "    </tr>\n",
       "    <tr>\n",
       "      <th>4</th>\n",
       "      <td>4</td>\n",
       "      <td>0</td>\n",
       "      <td>5.6763e-12</td>\n",
       "      <td>25.8947</td>\n",
       "    </tr>\n",
       "    <tr>\n",
       "      <th>5</th>\n",
       "      <td>5</td>\n",
       "      <td>15</td>\n",
       "      <td>1.0823e-10</td>\n",
       "      <td>22.9467</td>\n",
       "    </tr>\n",
       "    <tr>\n",
       "      <th>6</th>\n",
       "      <td>6</td>\n",
       "      <td>12</td>\n",
       "      <td>1.8821e-14</td>\n",
       "      <td>31.6038</td>\n",
       "    </tr>\n",
       "    <tr>\n",
       "      <th>7</th>\n",
       "      <td>7</td>\n",
       "      <td>9</td>\n",
       "      <td>1.1087e-08</td>\n",
       "      <td>18.3175</td>\n",
       "    </tr>\n",
       "    <tr>\n",
       "      <th>8</th>\n",
       "      <td>8</td>\n",
       "      <td>22</td>\n",
       "      <td>1.6134e-09</td>\n",
       "      <td>20.2449</td>\n",
       "    </tr>\n",
       "    <tr>\n",
       "      <th>9</th>\n",
       "      <td>9</td>\n",
       "      <td>9</td>\n",
       "      <td>2.1917e-03</td>\n",
       "      <td>6.1231</td>\n",
       "    </tr>\n",
       "  </tbody>\n",
       "</table>\n",
       "</div>"
      ],
      "text/plain": [
       "   example_idx  Y_true_index      p_true  -log(p_true)\n",
       "0            0             5  1.5213e-14       31.8166\n",
       "1            1            13  1.2830e-12       27.3818\n",
       "2            2            13  1.9647e-08       17.7454\n",
       "3            3             1  3.1758e-10       21.8703\n",
       "4            4             0  5.6763e-12       25.8947\n",
       "5            5            15  1.0823e-10       22.9467\n",
       "6            6            12  1.8821e-14       31.6038\n",
       "7            7             9  1.1087e-08       18.3175\n",
       "8            8            22  1.6134e-09       20.2449\n",
       "9            9             9  2.1917e-03        6.1231"
      ]
     },
     "metadata": {},
     "output_type": "display_data"
    },
    {
     "name": "stdout",
     "output_type": "stream",
     "text": [
      "\n",
      "Average loss across batch = 17.7697\n"
     ]
    }
   ],
   "source": [
    "p_true = probs[torch.arange(32), Y]\n",
    "log_p_true = p_true.log()\n",
    "neg_log_p_true = -log_p_true\n",
    "\n",
    "pd.set_option(\"display.precision\", 4)\n",
    "\n",
    "df = pd.DataFrame({\n",
    "    \"example_idx\": torch.arange(32).tolist(),\n",
    "    \"Y_true_index\": Y.tolist(),\n",
    "    \"p_true\": p_true.detach().tolist(),\n",
    "    \"-log(p_true)\": neg_log_p_true.detach().tolist()\n",
    "})\n",
    "display(df.head(10))\n",
    "print(f\"\\nAverage loss across batch = {loss.item():.4f}\")"
   ]
  },
  {
   "cell_type": "code",
   "execution_count": 131,
   "id": "6aa8b3bc-498f-4959-8d27-808772299186",
   "metadata": {},
   "outputs": [
    {
     "data": {
      "text/plain": [
       "tensor(17.7697)"
      ]
     },
     "execution_count": 131,
     "metadata": {},
     "output_type": "execute_result"
    }
   ],
   "source": [
    "##### In practice, cross_entropy would be used instead - there are many more beefits that are found with cross_entropy instead\n",
    "loss  = F.cross_entropy(logits, Y)\n",
    "# this loss should present the same loss as the calculated loss above\n",
    "loss"
   ]
  },
  {
   "cell_type": "code",
   "execution_count": 111,
   "id": "21e4ef46-16e4-4936-8211-b5e72e18d991",
   "metadata": {},
   "outputs": [],
   "source": [
    "# Everything up til this point has been for the forward pass\n",
    "# This point on is the backward pass"
   ]
  },
  {
   "cell_type": "code",
   "execution_count": 132,
   "id": "100a3e53-8794-49de-aeb5-7b7c00848ea9",
   "metadata": {},
   "outputs": [],
   "source": [
    "# need to ensure that all parameterse has grad set to true\n",
    "for p in parameters:\n",
    "    p.requires_grad = True"
   ]
  },
  {
   "cell_type": "code",
   "execution_count": null,
   "id": "6d868122-d6af-4d55-b1b9-df05480171df",
   "metadata": {},
   "outputs": [],
   "source": [
    "## THIS IS REALLY BASIC - and this is just an idea / PARTIAL IMPLEMENTATION.\n",
    "## actual implementation will come later\n",
    "for p in parameters:\n",
    "    p.grad = None\n",
    "loss.backward()\n",
    "# update\n",
    "for p in parameters:\n",
    "    p.data += -0.1 * p.grad"
   ]
  },
  {
   "cell_type": "code",
   "execution_count": 191,
   "id": "b05563f6-4e22-43e6-a821-e1ad9881e6fb",
   "metadata": {},
   "outputs": [],
   "source": [
    "# RESET DATA SET\n",
    "\n",
    "# consider that we only want a block size or starting context to predict each letter\n",
    "blockSize= 3\n",
    "X, Y = [], []\n",
    "for w in words:\n",
    "    # initialize the context to be of size blockSize and nothing inside\n",
    "    context= [0] * blockSize\n",
    "    # for each character, we want to construct the context used to find answer or predicted character\n",
    "    # we are trying to build something like this\n",
    "    # ['.', '.', '.'] is used to predict ['a']\n",
    "    # and so forth\n",
    "    for ch in w + '.':\n",
    "        ix = stoi[ch]\n",
    "        # we add into the context data set used for prediction (in numbers)\n",
    "        X.append(context)\n",
    "        # and then we also add the related answer in integer format\n",
    "        Y.append(ix)\n",
    "        # print(''.join(itos[i] for i in context), '-->', itos[ix])\n",
    "        # then we need to consider updating the context to prepare what the context is ued for next prediction\n",
    "        context = context[1:] + [ix]\n",
    "\n",
    "X= torch.tensor(X)\n",
    "Y= torch.tensor(Y)"
   ]
  },
  {
   "cell_type": "code",
   "execution_count": 192,
   "id": "7d93e05b-ca75-404a-a47e-18c7a43e902b",
   "metadata": {},
   "outputs": [
    {
     "data": {
      "text/plain": [
       "(torch.Size([228146, 3]), torch.Size([228146]))"
      ]
     },
     "execution_count": 192,
     "metadata": {},
     "output_type": "execute_result"
    }
   ],
   "source": [
    "# FULL REVIEW AND FULL IMPLEMENTATION AGAIN\n",
    "X.shape, Y.shape # dataset"
   ]
  },
  {
   "cell_type": "code",
   "execution_count": 193,
   "id": "5f869d70-3588-406b-b7c2-6a5118d29be0",
   "metadata": {},
   "outputs": [],
   "source": [
    "g = torch.Generator().manual_seed(2147483647) # this is for reproducability\n",
    "# Embedding matrix mapping each of the 27 possible characters to a 2D vector representation\n",
    "C = torch.randn((27,2), generator=g)\n",
    "# Weights and biases for the first linear layer: input of 6 (from 3 chars × 2 embedding dim) → 100 hidden units\n",
    "W1 = torch.randn((6, 100), generator=g)\n",
    "b1 = torch.randn(100, generator=g)\n",
    "\n",
    "# Weights and biases for output layer: 100 → 27 (each output logit corresponds to one possible next character).\n",
    "W2= torch.randn((100, 27), generator=g)\n",
    "b2= torch.randn(27, generator=g)\n",
    "\n",
    "# just to organize it all together\n",
    "parameters = [C, W1, b1, W2, b2]"
   ]
  },
  {
   "cell_type": "code",
   "execution_count": 194,
   "id": "2bbcd7af-2c0f-4974-b327-2cc5d526d291",
   "metadata": {},
   "outputs": [
    {
     "data": {
      "text/plain": [
       "3481"
      ]
     },
     "execution_count": 194,
     "metadata": {},
     "output_type": "execute_result"
    }
   ],
   "source": [
    "sum(p.nelement() for p in parameters)"
   ]
  },
  {
   "cell_type": "code",
   "execution_count": 195,
   "id": "b99526a6-72a9-4332-a784-642c604de1d9",
   "metadata": {},
   "outputs": [],
   "source": [
    "for p in parameters: p.requires_grad=True"
   ]
  },
  {
   "cell_type": "code",
   "execution_count": null,
   "id": "22738cdd-c6f4-4e71-b8b3-ceda72e8dc88",
   "metadata": {},
   "outputs": [],
   "source": [
    "for _ in range(1000):\n",
    "    # forward pass\n",
    "    emb = C[X]\n",
    "    h = torch.tanh(emb.view(-1, 6) @ W1 + b1) # 32x100\n",
    "    logits = h @ W2 + b2\n",
    "    # then we normalize and get loss\n",
    "    loss = F.cross_entropy(logits, Y)\n",
    "\n",
    "    # backward pass\n",
    "    for p in parameters:\n",
    "        p.grad = None\n",
    "    loss.backward()\n",
    "    \n",
    "    for p in parameters:\n",
    "        p.data += -0.1 * p.grad\n",
    "\n",
    "print(loss.item())"
   ]
  },
  {
   "cell_type": "code",
   "execution_count": null,
   "id": "868f5daa-036b-4255-bf40-5d55cfcb52f8",
   "metadata": {},
   "outputs": [],
   "source": [
    "logits.max(1)"
   ]
  },
  {
   "cell_type": "code",
   "execution_count": 160,
   "id": "f82d71e9-eaf4-4fb7-8e88-3d2b897971c9",
   "metadata": {},
   "outputs": [
    {
     "data": {
      "text/plain": [
       "tensor([ 5, 13, 13,  1,  0, 15, 12,  9, 22,  9,  1,  0,  1, 22,  1,  0,  9, 19,\n",
       "         1,  2,  5, 12, 12,  1,  0, 19, 15, 16,  8,  9,  1,  0])"
      ]
     },
     "execution_count": 160,
     "metadata": {},
     "output_type": "execute_result"
    }
   ],
   "source": [
    "Y"
   ]
  },
  {
   "cell_type": "code",
   "execution_count": 209,
   "id": "83684044-5eb1-4c10-a1dd-770fc429041f",
   "metadata": {},
   "outputs": [
    {
     "name": "stdout",
     "output_type": "stream",
     "text": [
      "Using device: cuda\n"
     ]
    }
   ],
   "source": [
    "device = torch.device('cuda' if torch.cuda.is_available() else 'cpu')\n",
    "print('Using device:', device)"
   ]
  },
  {
   "cell_type": "code",
   "execution_count": 361,
   "id": "ec5712a2-9d49-4d99-a032-74c90d639ffa",
   "metadata": {},
   "outputs": [],
   "source": [
    "# to build a dataset\n",
    "\n",
    "# consider that we only want a block size or starting context to predict each letter\n",
    "blockSize= 5\n",
    "X, Y = [], []\n",
    "for w in words:\n",
    "    # print(w)\n",
    "    # initialize the context to be of size blockSize and nothing inside\n",
    "    context= [0] * blockSize\n",
    "    # for each character, we want to construct the context used to find answer or predicted character\n",
    "    # we are trying to build something like this\n",
    "    # ['.', '.', '.'] is used to predict ['a']\n",
    "    # and so forth\n",
    "    for ch in w + '.':\n",
    "        ix = stoi[ch]\n",
    "        # we add into the context data set used for prediction (in numbers)\n",
    "        X.append(context)\n",
    "        # and then we also add the related answer in integer format\n",
    "        Y.append(ix)\n",
    "        # print(''.join(itos[i] for i in context), '-->', itos[ix])\n",
    "        # then we need to consider updating the context to prepare what the context is ued for next prediction\n",
    "        context = context[1:] + [ix]\n",
    "\n",
    "X= torch.tensor(X)\n",
    "Y= torch.tensor(Y)"
   ]
  },
  {
   "cell_type": "code",
   "execution_count": 362,
   "id": "6549b721-f3ae-4b63-9d04-1245973402dd",
   "metadata": {},
   "outputs": [],
   "source": [
    "### okay gonna try to move everything to cuda instead since it seems to be killing up my CPU\n",
    "# move inputs to device ( cuda )\n",
    "X = X.to(device)\n",
    "Y = Y.to(device)"
   ]
  },
  {
   "cell_type": "code",
   "execution_count": 369,
   "id": "cc004822-9146-4ebb-b872-bd16946f468d",
   "metadata": {},
   "outputs": [],
   "source": [
    "# 2) reproducible RNG + init directly on device\n",
    "g = torch.Generator(device=device).manual_seed(2147483647)\n",
    "\n",
    "# dims\n",
    "vocab_size = 27\n",
    "embed_dim   = 15\n",
    "hidden_dim  = 100"
   ]
  },
  {
   "cell_type": "code",
   "execution_count": 370,
   "id": "f1366cea-5435-40ab-b9d9-5d0d2a2c1eea",
   "metadata": {},
   "outputs": [],
   "source": [
    "# Parameters on device (and with grads)\n",
    "C  = torch.randn((vocab_size, embed_dim), generator=g, device=device, requires_grad=True)       # embedding table\n",
    "W1 = torch.randn((blockSize*embed_dim, hidden_dim), generator=g, device=device, requires_grad=True)     # 6x100 if context=3, embed_dim=2\n",
    "b1 = torch.randn((hidden_dim,), generator=g, device=device, requires_grad=True)\n",
    "W2 = torch.randn((hidden_dim, vocab_size), generator=g, device=device, requires_grad=True)\n",
    "b2 = torch.randn((vocab_size,), generator=g, device=device, requires_grad=True)\n",
    "\n",
    "parameters = [C, W1, b1, W2, b2]"
   ]
  },
  {
   "cell_type": "code",
   "execution_count": 380,
   "id": "d25e9cf4-f923-469b-99fd-78123d7fa90e",
   "metadata": {},
   "outputs": [
    {
     "name": "stdout",
     "output_type": "stream",
     "text": [
      "Final loss: 2.5493927001953125\n",
      "tensor(1.2581, device='cuda:0', grad_fn=<NllLossBackward0>)\n"
     ]
    }
   ],
   "source": [
    "steps = 85000\n",
    "\n",
    "# STEP 3 let's als include a learning rate exponent (decay)\n",
    "lre = torch.linspace(-3, -0, steps)\n",
    "lrs = 10**lre\n",
    "\n",
    "lri = []\n",
    "lossi = []\n",
    "stepi = []\n",
    "minloss = 100\n",
    "\n",
    "for i in range(steps):\n",
    "    # STEP2 COME BACK LATER\n",
    "    ix = torch.randint(0, X.shape[0], (32,)) # S2\n",
    "    \n",
    "    # forward\n",
    "    # emb = C[X]                          # (batch, context, embed_dim) on GPU\n",
    "    emb = C[X[ix]] # S2 now we are getting a smaller batch from the whole\n",
    "    B, T, E = emb.shape                 # e.g., (32, 3, 2)\n",
    "    h = torch.tanh(emb.view(-1, T*E) @ W1 + b1)  # (32, hidden_dim)\n",
    "    logits = h @ W2 + b2                        # (32, vocab_size)\n",
    "\n",
    "    # cross-entropy expects raw logits and target indices\n",
    "    # loss = F.cross_entropy(logits, Y)\n",
    "    loss = F.cross_entropy(logits, Y[ix]) # S2\n",
    "\n",
    "    # backward\n",
    "    for p in parameters:\n",
    "        if p.grad is not None:\n",
    "            p.grad.zero_()\n",
    "    loss.backward()\n",
    "\n",
    "    # update (use no_grad, avoid .data)\n",
    "    # lr = lrs[i]\n",
    "    lr = 0.1 if i < 100000 else 0.01\n",
    "    with torch.no_grad():\n",
    "        for p in parameters:\n",
    "            p -= lr * p.grad\n",
    "\n",
    "    # track stats\n",
    "    # lri.append((lre[i]))\n",
    "    stepi.append(i)\n",
    "    lossi.append(loss.item())\n",
    "    minloss = min(minloss, loss)\n",
    "\n",
    "print('Final loss:', loss.item())\n",
    "print(minloss)"
   ]
  },
  {
   "cell_type": "code",
   "execution_count": 381,
   "id": "dc221120-2eb9-4e39-b81b-915b1fa3cf3b",
   "metadata": {},
   "outputs": [
    {
     "data": {
      "text/plain": [
       "[<matplotlib.lines.Line2D at 0x7e62f4b85f30>]"
      ]
     },
     "execution_count": 381,
     "metadata": {},
     "output_type": "execute_result"
    },
    {
     "data": {
      "image/png": "[encoded data removed]",
      "text/plain": [
       "<Figure size 640x480 with 1 Axes>"
      ]
     },
     "metadata": {},
     "output_type": "display_data"
    }
   ],
   "source": [
    "plt.plot(stepi, lossi)"
   ]
  },
  {
   "cell_type": "code",
   "execution_count": 378,
   "id": "001cef78-9796-48c4-b196-b422f0a2040c",
   "metadata": {},
   "outputs": [
    {
     "data": {
      "text/plain": [
       "tensor([161132, 137763, 156815, 221449, 101514, 224675,  58657, 226139,  13088,\n",
       "        225364, 154831,  31222, 174983, 134401, 131670,  41684,  64865, 116922,\n",
       "         90102, 187389,  61106,  67555,  61360, 180903, 161685, 176190, 128910,\n",
       "         72755,  47026, 133884, 136604, 140088])"
      ]
     },
     "execution_count": 378,
     "metadata": {},
     "output_type": "execute_result"
    }
   ],
   "source": [
    "# This seems to be taking too long, we can instead move onto the usage within miniBatches (random)\n",
    "torch.randint(0, X.shape[0], (32,))\n",
    "\n",
    "# with this I will add a STEP2 to the above code"
   ]
  },
  {
   "cell_type": "code",
   "execution_count": 382,
   "id": "fb9be348-98a8-49c2-bbed-99085a96ed73",
   "metadata": {},
   "outputs": [
    {
     "name": "stdout",
     "output_type": "stream",
     "text": [
      "gurinah.\n",
      "zubilia.\n",
      "syze.\n",
      "nelie.\n",
      "taia.\n",
      "mayam.\n",
      "kamots.\n",
      "keemon.\n",
      "dalxa.\n",
      "mitel.\n",
      "zurav.\n",
      "hodee.\n",
      "browiy.\n",
      "deace.\n",
      "madie.\n",
      "caerleiga.\n",
      "dayey.\n",
      "eilva.\n",
      "saysiel.\n",
      "sanarrus.\n"
     ]
    }
   ],
   "source": [
    "# sample from the model\n",
    "for _ in range(20):\n",
    "    \n",
    "    out = []\n",
    "    context = [0] * blockSize # initialize with all ...\n",
    "    while True:\n",
    "      emb = C[torch.tensor([context])] # (1,block_size,d)\n",
    "      h = torch.tanh(emb.view(1, -1) @ W1 + b1)\n",
    "      logits = h @ W2 + b2\n",
    "      prob = F.softmax(logits, dim=1)\n",
    "      ix = torch.multinomial(prob, num_samples=1, generator=g).item()\n",
    "      context = context[1:] + [ix]\n",
    "      out.append(ix)\n",
    "      if ix == 0:\n",
    "        break\n",
    "    \n",
    "    print(''.join(itos[i] for i in out))"
   ]
  },
  {
   "cell_type": "code",
   "execution_count": 326,
   "id": "62b4dacb-7587-4302-884d-47245ec75623",
   "metadata": {},
   "outputs": [],
   "source": [
    "# i didn't get into building train set and the loss diagrams, that is that is mising from here"
   ]
  },
  {
   "cell_type": "code",
   "execution_count": null,
   "id": "71f853ab-1880-4d75-915c-efbc689f62f6",
   "metadata": {},
   "outputs": [],
   "source": []
  }
 ],
 "metadata": {
  "kernelspec": {
   "display_name": "Python 3 (ipykernel)",
   "language": "python",
   "name": "python3"
  },
  "language_info": {
   "codemirror_mode": {
    "name": "ipython",
    "version": 3
   },
   "file_extension": ".py",
   "mimetype": "text/x-python",
   "name": "python",
   "nbconvert_exporter": "python",
   "pygments_lexer": "ipython3",
   "version": "3.10.12"
  }
 },
 "nbformat": 4,
 "nbformat_minor": 5
}
