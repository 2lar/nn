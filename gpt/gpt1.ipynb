{
 "cells": [
  {
   "cell_type": "markdown",
   "id": "7217c118-3b50-4629-a782-7d5f0e23b411",
   "metadata": {},
   "source": [
    "# This is an attempt to build GPT from scratch"
   ]
  },
  {
   "cell_type": "code",
   "execution_count": 1,
   "id": "fb6a7c29-e790-4fb6-8baa-812010ba4c37",
   "metadata": {},
   "outputs": [
    {
     "name": "stdout",
     "output_type": "stream",
     "text": [
      "--2025-10-06 00:00:09--  https://raw.githubusercontent.com/karpathy/char-rnn/master/data/tinyshakespeare/input.txt\n",
      "Resolving raw.githubusercontent.com (raw.githubusercontent.com)... 185.199.111.133, 185.199.108.133, 185.199.109.133, ...\n",
      "Connecting to raw.githubusercontent.com (raw.githubusercontent.com)|185.199.111.133|:443... connected.\n",
      "HTTP request sent, awaiting response... 200 OK\n",
      "Length: 1115394 (1.1M) [text/plain]\n",
      "Saving to: ‘input.txt.1’\n",
      "\n",
      "input.txt.1         100%[===================>]   1.06M  2.98MB/s    in 0.4s    \n",
      "\n",
      "2025-10-06 00:00:09 (2.98 MB/s) - ‘input.txt.1’ saved [1115394/1115394]\n",
      "\n"
     ]
    }
   ],
   "source": [
    "# We always start with a dataset to train on - this is the shake speare dataset\n",
    "!wget https://raw.githubusercontent.com/karpathy/char-rnn/master/data/tinyshakespeare/input.txt"
   ]
  },
  {
   "cell_type": "code",
   "execution_count": 2,
   "id": "0e58e4f4-3c66-4247-8627-df44860fa702",
   "metadata": {},
   "outputs": [],
   "source": [
    "with open('input.txt', 'r', encoding='utf-8') as f:\n",
    "    text= f.read()"
   ]
  },
  {
   "cell_type": "code",
   "execution_count": 3,
   "id": "926e389d-7630-4092-9b9c-77b09621fabb",
   "metadata": {},
   "outputs": [
    {
     "name": "stdout",
     "output_type": "stream",
     "text": [
      "\n",
      " !$&',-.3:;?ABCDEFGHIJKLMNOPQRSTUVWXYZabcdefghijklmnopqrstuvwxyz\n",
      "The size of the chractacter vocabulary is 65, just note: there is also a space\n"
     ]
    }
   ],
   "source": [
    "chars= sorted(list(set(text)))\n",
    "vocab_size= len(chars)\n",
    "print(''.join(chars))\n",
    "print(f\"The size of the chractacter vocabulary is {vocab_size}, just note: there is also a space\")"
   ]
  },
  {
   "cell_type": "markdown",
   "id": "0dee9e82-5baf-4522-8d67-1a32c5e674c8",
   "metadata": {},
   "source": [
    "### Cell Below: Is creating a simple tokenizer / way of encoding - very simple\n",
    "\n",
    "Can look into other tokenizer packages like\n",
    "- sentencepiece\n",
    "- tiktokenizer"
   ]
  },
  {
   "cell_type": "code",
   "execution_count": 4,
   "id": "7b1605d7-811f-44ad-9af1-77a7514d06b8",
   "metadata": {},
   "outputs": [
    {
     "name": "stdout",
     "output_type": "stream",
     "text": [
      "[58, 46, 47, 57, 1, 47, 57, 1, 43, 52, 41, 53, 42, 43, 42]\n",
      "this is encoded\n"
     ]
    }
   ],
   "source": [
    "# Create a mapping from characters to integers and vice versa\n",
    "stoi= {ch:i for i,ch in enumerate(chars)}\n",
    "itos= {i:ch for i,ch in enumerate(chars)}\n",
    "\n",
    "# these are functions\n",
    "\n",
    "# encode a string into a list of integers\n",
    "encode= lambda s: [stoi[c] for c in s]\n",
    "\n",
    "# decode a list of integers into a string\n",
    "decode= lambda l: ''.join([itos[i] for i in l])\n",
    "\n",
    "print(encode(\"this is encoded\"))\n",
    "print(decode(encode(\"this is encoded\")))"
   ]
  },
  {
   "cell_type": "code",
   "execution_count": 5,
   "id": "3d3d9fc8-ad4e-4240-9800-08238617800d",
   "metadata": {},
   "outputs": [
    {
     "name": "stdout",
     "output_type": "stream",
     "text": [
      "Using device: cuda\n"
     ]
    }
   ],
   "source": [
    "import torch\n",
    "\n",
    "## this part as I'm understanding should really be moved towards the end\n",
    "# the move to device should happen after everything can work on cpu first\n",
    "import os\n",
    "\n",
    "os.environ[\"CUDA_LAUNCH_BLOCKING\"] = \"1\"\n",
    "device = torch.device('cuda' if torch.cuda.is_available() else 'cpu')\n",
    "print('Using device:', device)\n",
    "\n",
    "torch.manual_seed(2147483647)\n",
    "if device.type == 'cuda':\n",
    "    torch.cuda.manual_seed_all(2147483647)"
   ]
  },
  {
   "cell_type": "code",
   "execution_count": 6,
   "id": "1572b569-c9a4-41f0-b273-f11744694179",
   "metadata": {},
   "outputs": [
    {
     "name": "stdout",
     "output_type": "stream",
     "text": [
      "torch.Size([1115394]) torch.int64\n",
      "tensor([18, 47, 56, 57, 58,  1, 15, 47, 58, 47, 64, 43, 52, 10,  0, 14, 43, 44,\n",
      "        53, 56, 43,  1, 61, 43,  1, 54, 56, 53, 41, 43, 43, 42,  1, 39, 52, 63,\n",
      "         1, 44, 59, 56, 58, 46, 43, 56,  6,  1, 46, 43, 39, 56,  1, 51, 43,  1,\n",
      "        57, 54, 43, 39, 49,  8,  0,  0, 13, 50, 50, 10,  0, 31, 54, 43, 39, 49,\n",
      "         6,  1, 57, 54, 43, 39, 49,  8,  0,  0, 18, 47, 56, 57, 58,  1, 15, 47,\n",
      "        58, 47, 64, 43, 52, 10,  0, 37, 53, 59])\n"
     ]
    }
   ],
   "source": [
    "## Encode the entire dataset into a tensor\n",
    "\n",
    "data= torch.tensor(encode(text), dtype=torch.long)\n",
    "print(data.shape, data.dtype)\n",
    "print(data[:100])"
   ]
  },
  {
   "cell_type": "code",
   "execution_count": 7,
   "id": "038aad44-0b60-46a3-b95a-dc029f85b149",
   "metadata": {},
   "outputs": [],
   "source": [
    "## Now to split up the data into train and validation sets\n",
    "# This won't be shuffled it's just raw from the shakespeare texts\n",
    "n= int(0.9*len(data))\n",
    "train_data= data[:n]\n",
    "val_data= data[n:]"
   ]
  },
  {
   "cell_type": "code",
   "execution_count": 8,
   "id": "025d31e7-c93a-477c-853e-6a6652bab0ff",
   "metadata": {},
   "outputs": [
    {
     "data": {
      "text/plain": [
       "tensor([18, 47, 56, 57, 58,  1, 15, 47, 58])"
      ]
     },
     "execution_count": 8,
     "metadata": {},
     "output_type": "execute_result"
    }
   ],
   "source": [
    "block_size= 8\n",
    "train_data[:block_size+1]"
   ]
  },
  {
   "cell_type": "markdown",
   "id": "d1dde3d0-205b-4923-ab18-336fce3f40c4",
   "metadata": {},
   "source": [
    "With {block_size}, we use a specific up to an amout of context in order to predict the next character/token\n",
    "- This is the use of context from as little as 1 to {block_size} to inference\n",
    "\n",
    "__The next few Cells are to demonstrate how we can use from 1 - {block_size} of context to predict the next token__"
   ]
  },
  {
   "cell_type": "code",
   "execution_count": 9,
   "id": "c9889198-cc8e-41dc-9cf8-cf862b54fe12",
   "metadata": {},
   "outputs": [
    {
     "name": "stdout",
     "output_type": "stream",
     "text": [
      "when input is tensor([18]) the target: 47\n",
      "when input is tensor([18, 47]) the target: 56\n",
      "when input is tensor([18, 47, 56]) the target: 57\n",
      "when input is tensor([18, 47, 56, 57]) the target: 58\n",
      "when input is tensor([18, 47, 56, 57, 58]) the target: 1\n",
      "when input is tensor([18, 47, 56, 57, 58,  1]) the target: 15\n",
      "when input is tensor([18, 47, 56, 57, 58,  1, 15]) the target: 47\n",
      "when input is tensor([18, 47, 56, 57, 58,  1, 15, 47]) the target: 58\n"
     ]
    }
   ],
   "source": [
    "# an example to showcase how we can use up to 8 tokens of context\n",
    "x = train_data[:block_size]\n",
    "y = train_data[1:block_size+1]\n",
    "for t in range(block_size):\n",
    "    context = x[:t+1]\n",
    "    target = y[t]\n",
    "    print(f\"when input is {context} the target: {target}\")"
   ]
  },
  {
   "cell_type": "code",
   "execution_count": 10,
   "id": "cb6b6b86-f4eb-4733-bcad-4975f79c8ea2",
   "metadata": {},
   "outputs": [
    {
     "name": "stdout",
     "output_type": "stream",
     "text": [
      "inputs:\n",
      "torch.Size([4, 8])\n",
      "tensor([[43, 11,  0, 35, 46, 53,  6,  1],\n",
      "        [50, 63,  1, 42, 43, 60, 53, 58],\n",
      "        [ 1, 54, 47, 58, 63,  1, 57, 47],\n",
      "        [ 1, 61, 47, 50, 50,  1, 52, 53]])\n",
      "targets:\n",
      "torch.Size([4, 8])\n",
      "tensor([[11,  0, 35, 46, 53,  6,  1, 39],\n",
      "        [63,  1, 42, 43, 60, 53, 58, 47],\n",
      "        [54, 47, 58, 63,  1, 57, 47, 58],\n",
      "        [61, 47, 50, 50,  1, 52, 53, 58]])\n",
      "----\n",
      "when input is [43] the target: 11\n",
      "when input is [43, 11] the target: 0\n",
      "when input is [43, 11, 0] the target: 35\n",
      "when input is [43, 11, 0, 35] the target: 46\n",
      "when input is [43, 11, 0, 35, 46] the target: 53\n",
      "when input is [43, 11, 0, 35, 46, 53] the target: 6\n",
      "when input is [43, 11, 0, 35, 46, 53, 6] the target: 1\n",
      "when input is [43, 11, 0, 35, 46, 53, 6, 1] the target: 39\n",
      "when input is [50] the target: 63\n",
      "when input is [50, 63] the target: 1\n",
      "when input is [50, 63, 1] the target: 42\n",
      "when input is [50, 63, 1, 42] the target: 43\n",
      "when input is [50, 63, 1, 42, 43] the target: 60\n",
      "when input is [50, 63, 1, 42, 43, 60] the target: 53\n",
      "when input is [50, 63, 1, 42, 43, 60, 53] the target: 58\n",
      "when input is [50, 63, 1, 42, 43, 60, 53, 58] the target: 47\n",
      "when input is [1] the target: 54\n",
      "when input is [1, 54] the target: 47\n",
      "when input is [1, 54, 47] the target: 58\n",
      "when input is [1, 54, 47, 58] the target: 63\n",
      "when input is [1, 54, 47, 58, 63] the target: 1\n",
      "when input is [1, 54, 47, 58, 63, 1] the target: 57\n",
      "when input is [1, 54, 47, 58, 63, 1, 57] the target: 47\n",
      "when input is [1, 54, 47, 58, 63, 1, 57, 47] the target: 58\n",
      "when input is [1] the target: 61\n",
      "when input is [1, 61] the target: 47\n",
      "when input is [1, 61, 47] the target: 50\n",
      "when input is [1, 61, 47, 50] the target: 50\n",
      "when input is [1, 61, 47, 50, 50] the target: 1\n",
      "when input is [1, 61, 47, 50, 50, 1] the target: 52\n",
      "when input is [1, 61, 47, 50, 50, 1, 52] the target: 53\n",
      "when input is [1, 61, 47, 50, 50, 1, 52, 53] the target: 58\n"
     ]
    }
   ],
   "source": [
    "batch_size = 4 # how many independent sequences will we process in parallel?\n",
    "block_size = 8 # what is the maximum context length for predictions?\n",
    "\n",
    "## This is literally just getting a batch or sample based on the above batch_size and block_size\n",
    "def get_batch(split):\n",
    "    # generate a small batch of data of inputs x and targets y\n",
    "    data = train_data if split == 'train' else val_data\n",
    "    # Get random chunks of data / offsets within the split data\n",
    "    ix = torch.randint(len(data) - block_size, (batch_size,))\n",
    "    # print(f\"this ix is of shape {ix.shape}\")\n",
    "    x = torch.stack([data[i:i+block_size] for i in ix])\n",
    "    y = torch.stack([data[i+1:i+block_size+1] for i in ix])\n",
    "    return x, y\n",
    "\n",
    "xb, yb = get_batch('train')\n",
    "print('inputs:')\n",
    "print(xb.shape)\n",
    "print(xb)\n",
    "print('targets:')\n",
    "print(yb.shape)\n",
    "print(yb)\n",
    "\n",
    "print('----')\n",
    "\n",
    "for b in range(batch_size): # batch dimension\n",
    "    for t in range(block_size): # time dimension\n",
    "        context = xb[b, :t+1]\n",
    "        target = yb[b,t]\n",
    "        print(f\"when input is {context.tolist()} the target: {target}\")"
   ]
  },
  {
   "cell_type": "markdown",
   "id": "64a0db25-d052-41e7-972e-afc5c5fe271e",
   "metadata": {},
   "source": [
    "__Implementing Bigram Module__"
   ]
  },
  {
   "cell_type": "code",
   "execution_count": 11,
   "id": "69a67fb0-23f0-4f8e-b527-7e420ca5296e",
   "metadata": {},
   "outputs": [
    {
     "name": "stdout",
     "output_type": "stream",
     "text": [
      "Using device: cuda\n"
     ]
    }
   ],
   "source": [
    "import os\n",
    "import torch\n",
    "import torch.nn as nn\n",
    "from torch.nn import functional as F\n",
    "\n",
    "torch.manual_seed(1337)\n",
    "if device.type == 'cuda':\n",
    "    torch.cuda.manual_seed_all(1337)\n",
    "\n",
    "os.environ[\"CUDA_LAUNCH_BLOCKING\"] = \"1\"\n",
    "device = torch.device('cuda' if torch.cuda.is_available() else 'cpu')\n",
    "print('Using device:', device)"
   ]
  },
  {
   "cell_type": "code",
   "execution_count": 12,
   "id": "26c4ec82-14f1-41d4-b554-b20c5f57c323",
   "metadata": {},
   "outputs": [
    {
     "name": "stdout",
     "output_type": "stream",
     "text": [
      "torch.Size([32, 65])\n",
      "tensor(4.2938, grad_fn=<NllLossBackward0>)\n",
      "\n",
      "SKIcLT;AcELMoTbvZv C?nq-QE33:CJqkOKH-q;:la!oiywkHjgChzbQ?u!3bLIgwevmyFJGUGp\n",
      "wnYWmnxKWWev-tDqXErVKLgJ\n"
     ]
    }
   ],
   "source": [
    "## when defining a module, there are 3 things that must always be defined, init, forward, and generate\n",
    "class BigramLanguageModel(nn.Module):\n",
    "    def __init__(self, vocab_size):\n",
    "        super().__init__()\n",
    "        # each token directly reads off the logits for the next token from a lookup table\n",
    "        self.token_embedding_table = nn.Embedding(vocab_size, vocab_size)\n",
    "\n",
    "    def forward(self, idx, targets=None):\n",
    "        # idx and targets are both (B,T) tensor of integers\n",
    "        # what logits does: find the scores for each example for each input context to find all possibilities of scores\n",
    "        #\n",
    "        # The input tensor (idx) acts as a map of indices into the embedding table.\n",
    "        # For each token in each sequence of the batch, we look up its corresponding row in the embedding table.\n",
    "        # Each row contains 65 logits — one for every possible next token in the vocabulary.\n",
    "        # The result is a (batch_size, block_size, vocab_size) tensor,\n",
    "        # where each position in the input has a full probability distribution (logits) over the next possible token.\n",
    "        logits = self.token_embedding_table(idx) # (B,T,C)\n",
    "\n",
    "        if targets is None:\n",
    "            loss = None\n",
    "        else:\n",
    "            B, T, C = logits.shape\n",
    "            logits = logits.view(B*T, C)\n",
    "            targets = targets.view(B*T)\n",
    "            loss = F.cross_entropy(logits, targets)\n",
    "\n",
    "        return logits, loss\n",
    "\n",
    "    def generate(self, idx, max_new_tokens):\n",
    "        # idx is (B, T) array of indices in the current context\n",
    "        for _ in range(max_new_tokens):\n",
    "            # get the predictions\n",
    "            logits, loss = self(idx)\n",
    "            # focus only on the last time step\n",
    "            logits = logits[:, -1, :] # becomes (B, C)\n",
    "            # apply softmax to get probabilities\n",
    "            probs = F.softmax(logits, dim=-1) # (B, C)\n",
    "            # sample from the distribution\n",
    "            idx_next = torch.multinomial(probs, num_samples=1) # (B, 1)\n",
    "            # append sampled index to the running sequence\n",
    "            idx = torch.cat((idx, idx_next), dim=1) # (B, T+1)\n",
    "        return idx\n",
    "        \n",
    "\n",
    "m= BigramLanguageModel(vocab_size)\n",
    "logits, loss = m(xb, yb)\n",
    "print(logits.shape)\n",
    "print(loss)\n",
    "print(decode(m.generate(idx = torch.zeros((1, 1), dtype=torch.long), max_new_tokens=100)[0].tolist()))"
   ]
  },
  {
   "cell_type": "code",
   "execution_count": 13,
   "id": "4b4920b4-1cab-4941-90ee-e62367c46d3e",
   "metadata": {},
   "outputs": [],
   "source": [
    "# We saw that it was pretty random. we will now train the bigram model to do much better\n",
    "optimizer= torch.optim.AdamW(m.parameters(), lr=1e-3)"
   ]
  },
  {
   "cell_type": "code",
   "execution_count": 14,
   "id": "5af8c35d-e393-4add-b2a9-82a71ba83e1b",
   "metadata": {},
   "outputs": [
    {
     "name": "stdout",
     "output_type": "stream",
     "text": [
      "2.382369041442871\n"
     ]
    }
   ],
   "source": [
    "batch_size = 32\n",
    "for steps in range(10000):  # repeat training many times to optimize model parameters\n",
    "\n",
    "    # ---- 1. Sample a mini-batch of data ----\n",
    "    # get_batch('train') randomly selects 'batch_size' examples (x,y) pairs from the training data.\n",
    "    # Each example consists of:\n",
    "    #   xb: input tokens  (shape: [batch_size, block_size])\n",
    "    #   yb: target tokens (shape: [batch_size, block_size])\n",
    "    # So each token in xb corresponds to one \"predict the next token\" target in yb.\n",
    "    xb, yb = get_batch('train')\n",
    "\n",
    "    # ---- 2. Forward pass ----\n",
    "    # Pass the input tokens through the model (BigramLanguageModel).\n",
    "    # This computes:\n",
    "    #   logits: model predictions (raw scores before softmax)\n",
    "    #   loss: how wrong the predictions are, computed via cross-entropy\n",
    "    logits, loss = m(xb, yb)\n",
    "\n",
    "    # ---- 3. Reset gradients ----\n",
    "    # Gradients from the previous iteration remain stored in each parameter’s .grad attribute.\n",
    "    # We must clear them before computing new gradients; otherwise they'd accumulate.\n",
    "    # 'set_to_none=True' is a slightly faster and more memory-efficient way to reset grads to None.\n",
    "    optimizer.zero_grad(set_to_none=True)\n",
    "\n",
    "    # ---- 4. Backward pass (gradient computation) ----\n",
    "    # This is where PyTorch’s autograd system kicks in.\n",
    "    # loss.backward() traverses the computation graph built during the forward pass\n",
    "    # and computes the derivative (∂loss/∂param) for every learnable parameter.\n",
    "    # The results are stored in param.grad for each parameter in the model.\n",
    "    loss.backward()\n",
    "    # this loss.backward() is possible because of the fact that nn.Module utilizes nn.Parameter which default sets\n",
    "    # the requires_grad=True resulting in the computational graph to be constructed and the loss calculation to be possible\n",
    "\n",
    "    # ---- 5. Parameter update ----\n",
    "    # The optimizer (e.g., Adam or SGD) updates each parameter using its gradient.\n",
    "    # The general rule: new_param = old_param - learning_rate * param.grad\n",
    "    # This step moves the parameters slightly in the direction that reduces the loss.\n",
    "    optimizer.step()\n",
    "\n",
    "# ---- 6. Report final training loss ----\n",
    "# After the loop ends, we print the final scalar loss value.\n",
    "# Lower loss means the model’s predicted next-token probabilities are closer to the true data distribution.\n",
    "print(loss.item())\n"
   ]
  },
  {
   "cell_type": "code",
   "execution_count": 15,
   "id": "21344946-0f2a-4bd6-9bd9-0fb77e5faaa8",
   "metadata": {},
   "outputs": [
    {
     "name": "stdout",
     "output_type": "stream",
     "text": [
      "\n",
      "lso br. ave aviasurf my, yxMPZI ivee iuedrd whar ksth y h bora s be hese, woweee; the! KI 'de, ulseecherd d o blllando;LUCEO, oraingofof win!\n",
      "RIfans picspeserer hee tha,\n",
      "TOFonk? me ain ckntoty ded. bo'llll st ta d:\n",
      "ELIS me hurf lal y, ma dus pe athouo\n",
      "BEY:! Indy; by s afreanoo adicererupa anse tecorro llaus a!\n",
      "OLeneerithesinthengove fal amas trr\n",
      "TI ar I t, mes, n IUSt my w, fredeeyove\n",
      "THek' merer, dd\n",
      "We ntem lud engitheso; cer ize helorowaginte the?\n",
      "Thak orblyoruldvicee chot, p,\n",
      "Bealivolde Th li\n"
     ]
    }
   ],
   "source": [
    "print(decode(m.generate(idx = torch.zeros((1, 1), dtype=torch.long), max_new_tokens=500)[0].tolist()))"
   ]
  },
  {
   "cell_type": "markdown",
   "id": "20b12f95-25ef-4af1-9ad5-ddd19c13b545",
   "metadata": {},
   "source": [
    "# __Now we are going into SELF ATTENTION__"
   ]
  },
  {
   "cell_type": "code",
   "execution_count": 26,
   "id": "98970951-f69e-4889-958c-395b16322cc9",
   "metadata": {},
   "outputs": [
    {
     "data": {
      "text/plain": [
       "torch.Size([4, 8, 2])"
      ]
     },
     "execution_count": 26,
     "metadata": {},
     "output_type": "execute_result"
    }
   ],
   "source": [
    "# toy example illustrating how matrix multiplication can be used for a \"weighted aggregation\"\n",
    "torch.manual_seed(1337)\n",
    "# we need to average the previous context\n",
    "B,T,C = 4,8,2 # batch, time, channels\n",
    "x = torch.randn(B,T,C)\n",
    "x.shape"
   ]
  },
  {
   "cell_type": "code",
   "execution_count": 27,
   "id": "25ec6259-af45-40cb-93d1-64d925a79226",
   "metadata": {},
   "outputs": [],
   "source": [
    "# want x[b,t] = mean_{i<=t} x[b,i]\n",
    "xbow = torch.zeros((B,T,C))\n",
    "for b in range(B):\n",
    "    for t in range(T):\n",
    "        xprev = x[b,:t+1] # (t,C)\n",
    "        xbow[b,t] = torch.mean(xprev, 0)"
   ]
  },
  {
   "cell_type": "code",
   "execution_count": 28,
   "id": "77f1a4a3-8e54-4463-ac83-f79d96faf0c9",
   "metadata": {},
   "outputs": [
    {
     "name": "stdout",
     "output_type": "stream",
     "text": [
      "a=\n",
      "tensor([[1.0000, 0.0000, 0.0000],\n",
      "        [0.5000, 0.5000, 0.0000],\n",
      "        [0.3333, 0.3333, 0.3333]])\n",
      "--\n",
      "b=\n",
      "tensor([[5., 7.],\n",
      "        [2., 0.],\n",
      "        [5., 3.]])\n",
      "--\n",
      "c=\n",
      "tensor([[5.0000, 7.0000],\n",
      "        [3.5000, 3.5000],\n",
      "        [4.0000, 3.3333]])\n"
     ]
    }
   ],
   "source": [
    "# The above isn't right\n",
    "### There's a better way to trick into self attention with matrix multipllication\n",
    "# toy example illustrating how matrix multiplication can be used for a \"weighted aggregation\"\n",
    "torch.manual_seed(1337)\n",
    "a = torch.tril(torch.ones(3, 3))\n",
    "a = a / torch.sum(a, 1, keepdim=True)\n",
    "b = torch.randint(0,10,(3,2)).float()\n",
    "c = a @ b\n",
    "print('a=')\n",
    "print(a)\n",
    "print('--')\n",
    "print('b=')\n",
    "print(b)\n",
    "print('--')\n",
    "print('c=')\n",
    "print(c)"
   ]
  },
  {
   "cell_type": "code",
   "execution_count": 29,
   "id": "d7298a48-fe9e-48b4-b6ba-06c30081fbd8",
   "metadata": {},
   "outputs": [
    {
     "data": {
      "text/plain": [
       "False"
      ]
     },
     "execution_count": 29,
     "metadata": {},
     "output_type": "execute_result"
    }
   ],
   "source": [
    " # using matrix multiply for a weighted aggregation\n",
    "wei = torch.tril(torch.ones(T, T))\n",
    "wei = wei / wei.sum(1, keepdim=True)\n",
    "xbow2 = wei @ x # (B, T, T) @ (B, T, C) ----> (B, T, C)\n",
    "torch.allclose(xbow, xbow2)\n",
    "# xbow[0], xbow2[0]\n",
    "# xbow[0] == xbow2[0]\n",
    "# They are identiical not sure why they arne't showing true"
   ]
  },
  {
   "cell_type": "code",
   "execution_count": 32,
   "id": "3fd058d6-733a-441e-aea7-18f537b87128",
   "metadata": {},
   "outputs": [
    {
     "data": {
      "text/plain": [
       "(tensor([[ 0.1808, -0.0700],\n",
       "         [-0.0894, -0.4926],\n",
       "         [ 0.1490, -0.3199],\n",
       "         [ 0.3504, -0.2238],\n",
       "         [ 0.3525,  0.0545],\n",
       "         [ 0.0688, -0.0396],\n",
       "         [ 0.0927, -0.0682],\n",
       "         [-0.0341,  0.1332]]),\n",
       " tensor([[ 0.1808, -0.0700],\n",
       "         [-0.0894, -0.4926],\n",
       "         [ 0.1490, -0.3199],\n",
       "         [ 0.3504, -0.2238],\n",
       "         [ 0.3525,  0.0545],\n",
       "         [ 0.0688, -0.0396],\n",
       "         [ 0.0927, -0.0682],\n",
       "         [-0.0341,  0.1332]]))"
      ]
     },
     "execution_count": 32,
     "metadata": {},
     "output_type": "execute_result"
    }
   ],
   "source": [
    "# use Softmax\n",
    "tril = torch.tril(torch.ones(T, T))\n",
    "wei = torch.zeros((T,T))\n",
    "wei = wei.masked_fill(tril == 0, float('-inf'))\n",
    "wei = F.softmax(wei, dim=-1)\n",
    "xbow3 = wei @ x\n",
    "torch.allclose(xbow, xbow3)\n",
    "xbow[0], xbow3[0]\n",
    "# they are identical !!"
   ]
  },
  {
   "cell_type": "code",
   "execution_count": 23,
   "id": "313f7127-d43e-4fb1-8975-6e119fba0a5f",
   "metadata": {},
   "outputs": [
    {
     "data": {
      "text/plain": [
       "torch.Size([4, 8, 16])"
      ]
     },
     "execution_count": 23,
     "metadata": {},
     "output_type": "execute_result"
    }
   ],
   "source": [
    "# self-attention!\n",
    "torch.manual_seed(1337)\n",
    "B,T,C = 4,8,32 # batch, time, channels\n",
    "x = torch.randn(B,T,C)\n",
    "\n",
    "# let's see a single Head perform self-attention\n",
    "head_size = 16\n",
    "key = nn.Linear(C, head_size, bias=False)\n",
    "query = nn.Linear(C, head_size, bias=False)\n",
    "value = nn.Linear(C, head_size, bias=False)\n",
    "k = key(x)   # (B, T, 16)\n",
    "q = query(x) # (B, T, 16)\n",
    "wei =  q @ k.transpose(-2, -1) # (B, T, 16) @ (B, 16, T) ---> (B, T, T)\n",
    "\n",
    "tril = torch.tril(torch.ones(T, T))\n",
    "#wei = torch.zeros((T,T))\n",
    "wei = wei.masked_fill(tril == 0, float('-inf'))\n",
    "wei = F.softmax(wei, dim=-1)\n",
    "\n",
    "v = value(x)\n",
    "out = wei @ v\n",
    "#out = wei @ x\n",
    "\n",
    "out.shape"
   ]
  },
  {
   "cell_type": "code",
   "execution_count": 24,
   "id": "7ef1454c-695f-4d71-a8d8-15318c9cda3a",
   "metadata": {},
   "outputs": [
    {
     "data": {
      "text/plain": [
       "tensor([[1., 0., 0., 0., 0., 0., 0., 0.],\n",
       "        [1., 1., 0., 0., 0., 0., 0., 0.],\n",
       "        [1., 1., 1., 0., 0., 0., 0., 0.],\n",
       "        [1., 1., 1., 1., 0., 0., 0., 0.],\n",
       "        [1., 1., 1., 1., 1., 0., 0., 0.],\n",
       "        [1., 1., 1., 1., 1., 1., 0., 0.],\n",
       "        [1., 1., 1., 1., 1., 1., 1., 0.],\n",
       "        [1., 1., 1., 1., 1., 1., 1., 1.]])"
      ]
     },
     "execution_count": 24,
     "metadata": {},
     "output_type": "execute_result"
    }
   ],
   "source": [
    "tril"
   ]
  },
  {
   "cell_type": "code",
   "execution_count": 33,
   "id": "1e057333-f3f7-43e1-9ac4-08e1f1b03982",
   "metadata": {},
   "outputs": [
    {
     "data": {
      "text/plain": [
       "torch.Size([4, 8, 16])"
      ]
     },
     "execution_count": 33,
     "metadata": {},
     "output_type": "execute_result"
    }
   ],
   "source": [
    "# ===============================================\n",
    "# Educational walkthrough of SELF-ATTENTION\n",
    "# ===============================================\n",
    "\n",
    "# B = batch size (how many independent sequences processed in parallel)\n",
    "# T = time steps / tokens in each sequence\n",
    "# C = channels / embedding dimension (features per token)\n",
    "B, T, C = 4, 8, 32\n",
    "x = torch.randn(B, T, C)  # random input embeddings (like token embeddings for 8 tokens per sequence)\n",
    "\n",
    "# ---------------------------------------------------------------\n",
    "# Step 1. Define the size of one \"attention head\"\n",
    "# ---------------------------------------------------------------\n",
    "# head_size determines how many features this head will project into.\n",
    "# Smaller than C because we’ll later have multiple heads that split the work.\n",
    "head_size = 16\n",
    "\n",
    "# ---------------------------------------------------------------\n",
    "# Step 2. Create linear projections for Q (query), K (key), V (value)\n",
    "# ---------------------------------------------------------------\n",
    "# Each token's embedding vector (size C) will be projected into 3 separate spaces:\n",
    "# - Query: what information this token wants to gather from others.\n",
    "# - Key: what information this token offers to others.\n",
    "# - Value: the actual content this token carries that might be shared.\n",
    "# These are learnable linear layers — weights are trained during backprop.\n",
    "key   = nn.Linear(C, head_size, bias=False)\n",
    "query = nn.Linear(C, head_size, bias=False)\n",
    "value = nn.Linear(C, head_size, bias=False)\n",
    "\n",
    "# ---------------------------------------------------------------\n",
    "# Step 3. Compute Q, K, V for each token in the sequence\n",
    "# ---------------------------------------------------------------\n",
    "# After projection:\n",
    "#  - q, k, v each have shape (B, T, head_size)\n",
    "# Each token now has its own \"query\", \"key\", and \"value\" representation.\n",
    "k = key(x)\n",
    "q = query(x)\n",
    "v = value(x)\n",
    "\n",
    "# ---------------------------------------------------------------\n",
    "# Step 4. Compute raw attention scores (\"affinities\")\n",
    "# ---------------------------------------------------------------\n",
    "# q @ k^T compares each token's query to every other token's key.\n",
    "# This gives a matrix of pairwise similarities: how much should token i attend to token j?\n",
    "# Shape math:\n",
    "#   q: (B, T, head_size)\n",
    "#   k^T: (B, head_size, T)\n",
    "#   q @ k^T: (B, T, T)\n",
    "# So for each sequence in the batch, we get a T x T attention map.\n",
    "wei = q @ k.transpose(-2, -1)  # (B, T, T)\n",
    "\n",
    "# ---------------------------------------------------------------\n",
    "# Step 5. Apply causal mask (tril) to prevent \"looking into the future\"\n",
    "# ---------------------------------------------------------------\n",
    "# We create a lower-triangular matrix of ones.\n",
    "# tril[i, j] = 1 means token i can attend to token j (j <= i).\n",
    "# tril[i, j] = 0 means token i cannot attend to token j (j > i, the future).\n",
    "tril = torch.tril(torch.ones(T, T))\n",
    "\n",
    "# masked_fill replaces all forbidden future positions with -inf\n",
    "# so that after softmax, those weights become zero (no attention).\n",
    "wei = wei.masked_fill(tril == 0, float('-inf'))\n",
    "\n",
    "# ---------------------------------------------------------------\n",
    "# Step 6. Softmax to turn scores into attention weights\n",
    "# ---------------------------------------------------------------\n",
    "# Softmax normalizes each row of the (T x T) attention matrix into probabilities.\n",
    "# Each row i now sums to 1 and represents: \"how much attention token i gives to each past token\".\n",
    "wei = F.softmax(wei, dim=-1)  # (B, T, T), rows are probability distributions\n",
    "\n",
    "# ---------------------------------------------------------------\n",
    "# Step 7. Weight the value vectors using the attention weights\n",
    "# ---------------------------------------------------------------\n",
    "# Each token’s new representation is a weighted sum of all other tokens’ values.\n",
    "# - wei: (B, T, T)\n",
    "# - v:   (B, T, head_size)\n",
    "# Result:\n",
    "#   out[b, t, :] = sum_j (wei[b, t, j] * v[b, j, :])\n",
    "# So each token now \"blends\" information from the tokens it attends to.\n",
    "out = wei @ v  # (B, T, head_size)\n",
    "\n",
    "# ---------------------------------------------------------------\n",
    "# Step 8. Verify output shape\n",
    "# ---------------------------------------------------------------\n",
    "# out has the same sequence length (T) but new feature dimension (head_size).\n",
    "# Each token’s output is now a context-aware vector — it knows which other tokens matter.\n",
    "print(out.shape)  # (B, T, head_size)\n"
   ]
  },
  {
   "cell_type": "markdown",
   "id": "01552c6b-c43f-4fb6-9b57-bc0379643721",
   "metadata": {},
   "source": [
    "scaling is also used to control variance at initalization. attend to attention is all you need to learn more about it\n",
    "Q @ K.T / (headsize)**-0.5"
   ]
  },
  {
   "cell_type": "code",
   "execution_count": 34,
   "id": "a817b196-2328-4f73-907f-6c992430082d",
   "metadata": {},
   "outputs": [
    {
     "name": "stdout",
     "output_type": "stream",
     "text": [
      "0.209729 M parameters\n",
      "step 0: train loss 4.4116, val loss 4.4022\n",
      "step 100: train loss 2.6568, val loss 2.6670\n",
      "step 200: train loss 2.5091, val loss 2.5059\n",
      "step 300: train loss 2.4198, val loss 2.4338\n",
      "step 400: train loss 2.3503, val loss 2.3566\n",
      "step 500: train loss 2.2963, val loss 2.3126\n",
      "step 600: train loss 2.2411, val loss 2.2502\n",
      "step 700: train loss 2.2053, val loss 2.2189\n",
      "step 800: train loss 2.1629, val loss 2.1865\n",
      "step 900: train loss 2.1244, val loss 2.1509\n",
      "step 1000: train loss 2.1022, val loss 2.1288\n",
      "step 1100: train loss 2.0705, val loss 2.1196\n",
      "step 1200: train loss 2.0392, val loss 2.0800\n",
      "step 1300: train loss 2.0255, val loss 2.0647\n",
      "step 1400: train loss 1.9935, val loss 2.0377\n",
      "step 1500: train loss 1.9697, val loss 2.0294\n",
      "step 1600: train loss 1.9611, val loss 2.0456\n",
      "step 1700: train loss 1.9415, val loss 2.0134\n",
      "step 1800: train loss 1.9074, val loss 1.9941\n",
      "step 1900: train loss 1.9087, val loss 1.9884\n",
      "step 2000: train loss 1.8858, val loss 1.9976\n",
      "step 2100: train loss 1.8708, val loss 1.9734\n",
      "step 2200: train loss 1.8591, val loss 1.9592\n",
      "step 2300: train loss 1.8577, val loss 1.9549\n",
      "step 2400: train loss 1.8431, val loss 1.9439\n",
      "step 2500: train loss 1.8142, val loss 1.9424\n",
      "step 2600: train loss 1.8256, val loss 1.9379\n",
      "step 2700: train loss 1.8118, val loss 1.9331\n",
      "step 2800: train loss 1.8034, val loss 1.9216\n",
      "step 2900: train loss 1.8035, val loss 1.9282\n",
      "step 3000: train loss 1.7948, val loss 1.9200\n",
      "step 3100: train loss 1.7664, val loss 1.9184\n",
      "step 3200: train loss 1.7571, val loss 1.9158\n",
      "step 3300: train loss 1.7585, val loss 1.9053\n",
      "step 3400: train loss 1.7550, val loss 1.8952\n",
      "step 3500: train loss 1.7383, val loss 1.8960\n",
      "step 3600: train loss 1.7252, val loss 1.8878\n",
      "step 3700: train loss 1.7307, val loss 1.8878\n",
      "step 3800: train loss 1.7198, val loss 1.8920\n",
      "step 3900: train loss 1.7239, val loss 1.8766\n",
      "step 4000: train loss 1.7118, val loss 1.8617\n",
      "step 4100: train loss 1.7116, val loss 1.8747\n",
      "step 4200: train loss 1.7026, val loss 1.8559\n",
      "step 4300: train loss 1.7014, val loss 1.8438\n",
      "step 4400: train loss 1.7100, val loss 1.8668\n",
      "step 4500: train loss 1.6934, val loss 1.8525\n",
      "step 4600: train loss 1.6895, val loss 1.8382\n",
      "step 4700: train loss 1.6829, val loss 1.8406\n",
      "step 4800: train loss 1.6643, val loss 1.8417\n",
      "step 4900: train loss 1.6698, val loss 1.8349\n",
      "step 4999: train loss 1.6645, val loss 1.8241\n",
      "\n",
      "And they bride will that yet King thou obe toe.\n",
      "Stirrats that hangs: thou heauses, I but redilass,\n",
      "Butwere my feanst to zorm heavens\n",
      "Musfiving bettly would but\n",
      "With ensent, will is the overs, and the now on you sou like dreecul thus wonchiry:\n",
      "Augh aids him you love.\n",
      "In Bodiever'd sweep\n",
      "that dement kleon your whrowerings to them,\n",
      "Will wind in his sound life. \n",
      "PAUMNINA:\n",
      "Turse I and is his shall dy.\n",
      "\n",
      "MUKERIUS:\n",
      "Marry, I hom.\n",
      "\n",
      "HENRY BOLINGS:\n",
      "You ards becompare, this heart as ranny irly smontrence!\n",
      "My firders, I mary thou contranthm so a cemprea-son;\n",
      "The werthile and whom the her that us.\n",
      "\n",
      "ISOTH:\n",
      "My darsper stile mign.\n",
      "\n",
      "ANEN RIZABELLA:\n",
      "Therefue, Peentremove, and parge\n",
      "Wout sight vittress so upon sixt fear tals:\n",
      "Whith loves, strike, no duke in,\n",
      "To may I want beakes against uncest the leve.\n",
      "That I no doscell bety argue,\n",
      "Fread is brind. I know the not.\n",
      "\n",
      "POLININGBROH:\n",
      "You it is ofter not the summon appriant. what that the must pereless kings to hy the pribed\n",
      "By that it, wout it not Gleen the out?\n",
      "\n",
      "RIVERS:\n",
      "The seals, I huse no; gruch our save,\n",
      "I sprive take all notace, I have dese,\n",
      "messe mines so me worting. Your tontught:\n",
      "How would, chear frievent: his foInd\n",
      "my all the call as ince any in this blame,\n",
      "Within's woes\n",
      "goone madist. \n",
      "\n",
      "CORIOLANUS:\n",
      "But dedst bey's let where forms;\n",
      "Flow! thy coldress tojess the vown;\n",
      "Maurth?-hat Here's be love is stadve.\n",
      "\n",
      "Privided:\n",
      "Slate your drams begrace, of vone,\n",
      "On I have must a belinent; whither.\n",
      "\n",
      "RICHARD IV:\n",
      "Or, speak.\n",
      "\n",
      "LUCHIO:\n",
      "Would of Roman:\n",
      "Whole, we\n",
      "ell sme is justinume thembrace, is spainst me of a-lates corbunt.\n",
      "\n",
      "PORALLINA:\n",
      "My farew ristrake, you all prevons death,\n",
      "yongery this is\n",
      "'Twas may marrius unar?\n",
      "\n",
      "JOHN RIARS:\n",
      "But his loft his in oath-son;\n",
      "\n",
      "BUCKINGILIZANUS:\n",
      "None in this wife it:\n",
      "Now thy be cort, thou with art, lives?\n",
      "\n",
      "LADY BOLINCENI:\n",
      "Why now,\n",
      "Talk'd our the corroh, like is.\n",
      "When I world I druid armself.\n",
      "What Garwitness would promble. I, am not thou an daughter flance is PRiparlinity,\n",
      "Not shown's fight his supper he had night,\n",
      "\n",
      "Marr\n"
     ]
    }
   ],
   "source": [
    "import torch\n",
    "import torch.nn as nn\n",
    "from torch.nn import functional as F\n",
    "\n",
    "# hyperparameters\n",
    "batch_size = 16 # how many independent sequences will we process in parallel?\n",
    "block_size = 32 # what is the maximum context length for predictions?\n",
    "max_iters = 5000\n",
    "eval_interval = 100\n",
    "learning_rate = 1e-3\n",
    "device = 'cuda' if torch.cuda.is_available() else 'cpu'\n",
    "eval_iters = 200\n",
    "n_embd = 64\n",
    "n_head = 4\n",
    "n_layer = 4\n",
    "dropout = 0.0\n",
    "# ------------\n",
    "\n",
    "torch.manual_seed(1337)\n",
    "\n",
    "# wget https://raw.githubusercontent.com/karpathy/char-rnn/master/data/tinyshakespeare/input.txt\n",
    "with open('input.txt', 'r', encoding='utf-8') as f:\n",
    "    text = f.read()\n",
    "\n",
    "# here are all the unique characters that occur in this text\n",
    "chars = sorted(list(set(text)))\n",
    "vocab_size = len(chars)\n",
    "# create a mapping from characters to integers\n",
    "stoi = { ch:i for i,ch in enumerate(chars) }\n",
    "itos = { i:ch for i,ch in enumerate(chars) }\n",
    "encode = lambda s: [stoi[c] for c in s] # encoder: take a string, output a list of integers\n",
    "decode = lambda l: ''.join([itos[i] for i in l]) # decoder: take a list of integers, output a string\n",
    "\n",
    "# Train and test splits\n",
    "data = torch.tensor(encode(text), dtype=torch.long)\n",
    "n = int(0.9*len(data)) # first 90% will be train, rest val\n",
    "train_data = data[:n]\n",
    "val_data = data[n:]\n",
    "\n",
    "# data loading\n",
    "def get_batch(split):\n",
    "    # generate a small batch of data of inputs x and targets y\n",
    "    data = train_data if split == 'train' else val_data\n",
    "    ix = torch.randint(len(data) - block_size, (batch_size,))\n",
    "    x = torch.stack([data[i:i+block_size] for i in ix])\n",
    "    y = torch.stack([data[i+1:i+block_size+1] for i in ix])\n",
    "    x, y = x.to(device), y.to(device)\n",
    "    return x, y\n",
    "\n",
    "@torch.no_grad()\n",
    "def estimate_loss():\n",
    "    out = {}\n",
    "    model.eval()\n",
    "    for split in ['train', 'val']:\n",
    "        losses = torch.zeros(eval_iters)\n",
    "        for k in range(eval_iters):\n",
    "            X, Y = get_batch(split)\n",
    "            logits, loss = model(X, Y)\n",
    "            losses[k] = loss.item()\n",
    "        out[split] = losses.mean()\n",
    "    model.train()\n",
    "    return out\n",
    "\n",
    "class Head(nn.Module):\n",
    "    \"\"\" one head of self-attention \"\"\"\n",
    "\n",
    "    def __init__(self, head_size):\n",
    "        super().__init__()\n",
    "        self.key = nn.Linear(n_embd, head_size, bias=False)\n",
    "        self.query = nn.Linear(n_embd, head_size, bias=False)\n",
    "        self.value = nn.Linear(n_embd, head_size, bias=False)\n",
    "        self.register_buffer('tril', torch.tril(torch.ones(block_size, block_size)))\n",
    "\n",
    "        self.dropout = nn.Dropout(dropout)\n",
    "\n",
    "    def forward(self, x):\n",
    "        B,T,C = x.shape\n",
    "        k = self.key(x)   # (B,T,C)\n",
    "        q = self.query(x) # (B,T,C)\n",
    "        # compute attention scores (\"affinities\")\n",
    "        wei = q @ k.transpose(-2,-1) * C**-0.5 # (B, T, C) @ (B, C, T) -> (B, T, T)\n",
    "        wei = wei.masked_fill(self.tril[:T, :T] == 0, float('-inf')) # (B, T, T)\n",
    "        wei = F.softmax(wei, dim=-1) # (B, T, T)\n",
    "        wei = self.dropout(wei)\n",
    "        # perform the weighted aggregation of the values\n",
    "        v = self.value(x) # (B,T,C)\n",
    "        out = wei @ v # (B, T, T) @ (B, T, C) -> (B, T, C)\n",
    "        return out\n",
    "\n",
    "class MultiHeadAttention(nn.Module):\n",
    "    \"\"\" multiple heads of self-attention in parallel \"\"\"\n",
    "\n",
    "    def __init__(self, num_heads, head_size):\n",
    "        super().__init__()\n",
    "        self.heads = nn.ModuleList([Head(head_size) for _ in range(num_heads)])\n",
    "        self.proj = nn.Linear(n_embd, n_embd)\n",
    "        self.dropout = nn.Dropout(dropout)\n",
    "\n",
    "    def forward(self, x):\n",
    "        out = torch.cat([h(x) for h in self.heads], dim=-1)\n",
    "        out = self.dropout(self.proj(out))\n",
    "        return out\n",
    "\n",
    "class FeedFoward(nn.Module):\n",
    "    \"\"\" a simple linear layer followed by a non-linearity \"\"\"\n",
    "\n",
    "    def __init__(self, n_embd):\n",
    "        super().__init__()\n",
    "        self.net = nn.Sequential(\n",
    "            nn.Linear(n_embd, 4 * n_embd),\n",
    "            nn.ReLU(),\n",
    "            nn.Linear(4 * n_embd, n_embd),\n",
    "            nn.Dropout(dropout),\n",
    "        )\n",
    "\n",
    "    def forward(self, x):\n",
    "        return self.net(x)\n",
    "\n",
    "class Block(nn.Module):\n",
    "    \"\"\" Transformer block: communication followed by computation \"\"\"\n",
    "\n",
    "    def __init__(self, n_embd, n_head):\n",
    "        # n_embd: embedding dimension, n_head: the number of heads we'd like\n",
    "        super().__init__()\n",
    "        head_size = n_embd // n_head\n",
    "        self.sa = MultiHeadAttention(n_head, head_size)\n",
    "        self.ffwd = FeedFoward(n_embd)\n",
    "        self.ln1 = nn.LayerNorm(n_embd)\n",
    "        self.ln2 = nn.LayerNorm(n_embd)\n",
    "\n",
    "    def forward(self, x):\n",
    "        x = x + self.sa(self.ln1(x))\n",
    "        x = x + self.ffwd(self.ln2(x))\n",
    "        return x\n",
    "\n",
    "# super simple bigram model\n",
    "class BigramLanguageModel(nn.Module):\n",
    "\n",
    "    def __init__(self):\n",
    "        super().__init__()\n",
    "        # each token directly reads off the logits for the next token from a lookup table\n",
    "        self.token_embedding_table = nn.Embedding(vocab_size, n_embd)\n",
    "        self.position_embedding_table = nn.Embedding(block_size, n_embd)\n",
    "        self.blocks = nn.Sequential(*[Block(n_embd, n_head=n_head) for _ in range(n_layer)])\n",
    "        self.ln_f = nn.LayerNorm(n_embd) # final layer norm\n",
    "        self.lm_head = nn.Linear(n_embd, vocab_size)\n",
    "\n",
    "    def forward(self, idx, targets=None):\n",
    "        B, T = idx.shape\n",
    "\n",
    "        # idx and targets are both (B,T) tensor of integers\n",
    "        tok_emb = self.token_embedding_table(idx) # (B,T,C)\n",
    "        pos_emb = self.position_embedding_table(torch.arange(T, device=device)) # (T,C)\n",
    "        x = tok_emb + pos_emb # (B,T,C)\n",
    "        x = self.blocks(x) # (B,T,C)\n",
    "        x = self.ln_f(x) # (B,T,C)\n",
    "        logits = self.lm_head(x) # (B,T,vocab_size)\n",
    "\n",
    "        if targets is None:\n",
    "            loss = None\n",
    "        else:\n",
    "            B, T, C = logits.shape\n",
    "            logits = logits.view(B*T, C)\n",
    "            targets = targets.view(B*T)\n",
    "            loss = F.cross_entropy(logits, targets)\n",
    "\n",
    "        return logits, loss\n",
    "\n",
    "    def generate(self, idx, max_new_tokens):\n",
    "        # idx is (B, T) array of indices in the current context\n",
    "        for _ in range(max_new_tokens):\n",
    "            # crop idx to the last block_size tokens\n",
    "            idx_cond = idx[:, -block_size:]\n",
    "            # get the predictions\n",
    "            logits, loss = self(idx_cond)\n",
    "            # focus only on the last time step\n",
    "            logits = logits[:, -1, :] # becomes (B, C)\n",
    "            # apply softmax to get probabilities\n",
    "            probs = F.softmax(logits, dim=-1) # (B, C)\n",
    "            # sample from the distribution\n",
    "            idx_next = torch.multinomial(probs, num_samples=1) # (B, 1)\n",
    "            # append sampled index to the running sequence\n",
    "            idx = torch.cat((idx, idx_next), dim=1) # (B, T+1)\n",
    "        return idx\n",
    "\n",
    "model = BigramLanguageModel()\n",
    "m = model.to(device)\n",
    "# print the number of parameters in the model\n",
    "print(sum(p.numel() for p in m.parameters())/1e6, 'M parameters')\n",
    "\n",
    "# create a PyTorch optimizer\n",
    "optimizer = torch.optim.AdamW(model.parameters(), lr=learning_rate)\n",
    "\n",
    "for iter in range(max_iters):\n",
    "\n",
    "    # every once in a while evaluate the loss on train and val sets\n",
    "    if iter % eval_interval == 0 or iter == max_iters - 1:\n",
    "        losses = estimate_loss()\n",
    "        print(f\"step {iter}: train loss {losses['train']:.4f}, val loss {losses['val']:.4f}\")\n",
    "\n",
    "    # sample a batch of data\n",
    "    xb, yb = get_batch('train')\n",
    "\n",
    "    # evaluate the loss\n",
    "    logits, loss = model(xb, yb)\n",
    "    optimizer.zero_grad(set_to_none=True)\n",
    "    loss.backward()\n",
    "    optimizer.step()\n",
    "\n",
    "# generate from the model\n",
    "context = torch.zeros((1, 1), dtype=torch.long, device=device)\n",
    "print(decode(m.generate(context, max_new_tokens=2000)[0].tolist()))"
   ]
  },
  {
   "cell_type": "code",
   "execution_count": null,
   "id": "166e08ad-b664-4505-9837-b76f4da6103b",
   "metadata": {},
   "outputs": [],
   "source": []
  }
 ],
 "metadata": {
  "kernelspec": {
   "display_name": "Python 3 (ipykernel)",
   "language": "python",
   "name": "python3"
  },
  "language_info": {
   "codemirror_mode": {
    "name": "ipython",
    "version": 3
   },
   "file_extension": ".py",
   "mimetype": "text/x-python",
   "name": "python",
   "nbconvert_exporter": "python",
   "pygments_lexer": "ipython3",
   "version": "3.10.12"
  }
 },
 "nbformat": 4,
 "nbformat_minor": 5
}
